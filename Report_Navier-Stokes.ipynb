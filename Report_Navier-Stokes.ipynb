{
  "nbformat": 4,
  "nbformat_minor": 0,
  "metadata": {
    "colab": {
      "name": "template-report-Navier-Stokes.ipynb",
      "provenance": [],
      "include_colab_link": true
    },
    "kernelspec": {
      "name": "python3",
      "display_name": "Python 3"
    }
  },
  "cells": [
    {
      "cell_type": "markdown",
      "metadata": {
        "id": "view-in-github",
        "colab_type": "text"
      },
      "source": [
        "<a href=\"https://colab.research.google.com/github/katty-anay/Fluid_mechanics_/blob/main/Report_Navier-Stokes.ipynb\" target=\"_parent\"><img src=\"https://colab.research.google.com/assets/colab-badge.svg\" alt=\"Open In Colab\"/></a>"
      ]
    },
    {
      "cell_type": "markdown",
      "metadata": {
        "id": "cyCUwzF-wRoW"
      },
      "source": [
        "# **The Navier-Stokes equations**\n",
        "**Johan Hoffman**"
      ]
    },
    {
      "cell_type": "markdown",
      "metadata": {
        "id": "9x_J5FVuPzbm"
      },
      "source": [
        "# **Abstract**"
      ]
    },
    {
      "cell_type": "markdown",
      "metadata": {
        "id": "6UFTSzW7P8kL"
      },
      "source": [
        "This short report show an example on how to use FEniCS to solve the Navier-Stokes equations, which is used in the course DD2365 Advanced Computation in Fluid Mechanics, at the KTH Royal Institute of Technology.\n",
        "\n",
        "[DD2365 course website.](https://www.kth.se/social/course/DD2365/)"
      ]
    },
    {
      "cell_type": "markdown",
      "metadata": {
        "id": "OkT8J7uOWpT3"
      },
      "source": [
        "# **About the code**"
      ]
    },
    {
      "cell_type": "code",
      "metadata": {
        "id": "Pdll1Xc9WP0e"
      },
      "source": [
        "# This program is an example file for the course\n",
        "# DD2365 Advanced Computation in Fluid Mechanics,\n",
        "# KTH Royal Institute of Technology, Stockholm, Sweden.\n",
        "\n",
        "# Copyright (C) 2020 Johan Hoffman (jhoffman@kth.se)\n",
        "\n",
        "# This file is part of the course DD2365 Advanced Computation in Fluid Mechanics\n",
        "# KTH Royal Institute of Technology, Stockholm, Sweden\n",
        "#\n",
        "# This is free software: you can redistribute it and/or modify\n",
        "# it under the terms of the GNU Lesser General Public License as published by\n",
        "# the Free Software Foundation, either version 3 of the License, or\n",
        "# (at your option) any later version.\n",
        "\n",
        "# This template is maintained by Johan Hoffman\n",
        "# Please report problems to jhoffman@kth.se"
      ],
      "execution_count": 37,
      "outputs": []
    },
    {
      "cell_type": "markdown",
      "metadata": {
        "id": "28xLGz8JX3Hh"
      },
      "source": [
        "# **Set up environment**"
      ]
    },
    {
      "cell_type": "code",
      "metadata": {
        "id": "Xw7VlErAX7NS"
      },
      "source": [
        "# Load neccessary modules.\n",
        "from google.colab import files\n",
        "\n",
        "import numpy as np\n",
        "import time\n",
        "\n",
        "# Install FEniCS (this may take a long time)\n",
        "try:\n",
        "    import dolfin\n",
        "except ImportError:\n",
        "    !wget \"https://fem-on-colab.github.io/releases/fenics-install-release-real.sh\" -O \"/tmp/fenics-install.sh\" && bash \"/tmp/fenics-install.sh\"\n",
        "    import dolfin\n",
        "\n",
        "from dolfin import *; from mshr import *\n",
        "\n",
        "import dolfin.common.plotting as fenicsplot\n",
        "\n",
        "from matplotlib import pyplot as plt"
      ],
      "execution_count": 38,
      "outputs": []
    },
    {
      "cell_type": "markdown",
      "metadata": {
        "id": "gnO3lhAigLev"
      },
      "source": [
        "# **Introduction**"
      ]
    },
    {
      "cell_type": "markdown",
      "metadata": {
        "id": "l5zMzgPlRAF6"
      },
      "source": [
        "The Navier-Stokes equations take the form\n",
        "\n",
        "$\\dot u + (u\\cdot \\nabla)u + \\nabla p -\\Delta u = f,\\quad \\nabla \\cdot u=0,$\n",
        "\n",
        "together with suitable initial and boundary conditions.\n",
        "\n",
        "Here we present a FEniCS implementation of a stabilized space-time finite element method to solve the Navier-Stokes equations in 2D. The solution is visualized using FEniCS plotting functions, and is also exported as pvd-files which can be visualized in Paraview.\n",
        "\n",
        "We seek a finite element approximation $(u,p)\\in V\\times Q$ such that\n",
        "\n",
        "$(\\dot u + (u\\cdot \\nabla)u, v) - (p,\\nabla \\cdot v) + (\\nu \\nabla u,\\nabla v) + (\\nabla \\cdot u, q) + SD(u,p;v,q) = (f,v),$\n",
        "\n",
        "for all test functions $(v,q) \\in \\hat V\\times \\hat Q$, where $SD(u,p;v,q)$ is a residual based stabilization term.\n",
        "\n",
        "We present an example of flow past a circular cylinder, for which we compute the force on the surface of the cylinder $\\Gamma$ in the direction $\\phi$, by Green's formula:\n",
        "\n",
        "$\n",
        "F(u,p,\\phi)= ~<\\nu \\nabla u\\cdot n-pn, \\Phi>_{\\Gamma} ~=~(\\dot u+(u\\cdot \\nabla)u, \\Phi) + (\\nu \\nabla u,\\nabla \\Phi) - (p,\\nabla \\cdot\\Phi)-(f,\\Phi),\n",
        "$\n",
        "\n",
        "with $\\Phi\\in V$ a fuinction for which $\\Phi\\vert _{\\Gamma}=\\phi$ and $\\Phi\\vert_{\\partial \\Omega \\setminus \\Gamma}=0$. With $\\phi=(1,0)$ we get the drag force $F_D$, and with $\\phi=(0,1)$ the lift force $F_L$. The drag and lift coefficients are obtained by normalization,\n",
        "\n",
        "$\n",
        "c_D = \\frac{2F_D}{\\rho U^2D}, \\quad c_L = \\frac{2F_L}{\\rho U^2D}\n",
        "$\n",
        "\n",
        "where $\\rho$ is the density (here $\\rho=1$), $U$ the characteristic velocity (here $U=1$), and $D$ the characteristic length scale (here $D$ is the diameter of the cylinder).\n",
        "\n",
        "The Reynolds number is defined as $Re=\\frac{UD}{\\nu}$\n",
        "\n",
        "To read more about how to use similar methods for more complex problems, see e.g.\n",
        "\n",
        "[Hoffman, Johan, et al. \"Towards a parameter-free method for high reynolds number turbulent flow simulation based on adaptive finite element approximation.\" Computer Methods in Applied Mechanics and Engineering 288 (2015): 60-74.](https://www.sciencedirect.com/science/article/pii/S0045782514004836)\n"
      ]
    },
    {
      "cell_type": "markdown",
      "metadata": {
        "id": "jOQvukXZq5U5"
      },
      "source": [
        "# **Method**"
      ]
    },
    {
      "cell_type": "markdown",
      "metadata": {
        "id": "wu2fugJ32t8m"
      },
      "source": [
        "**Define domain and mesh**"
      ]
    },
    {
      "cell_type": "code",
      "metadata": {
        "id": "_KBWOVATuBQz",
        "colab": {
          "base_uri": "https://localhost:8080/",
          "height": 211
        },
        "outputId": "37f33567-6287-465a-8356-0f0f0a06106e"
      },
      "source": [
        "# Define rectangular domain\n",
        "L = 4\n",
        "H = 2\n",
        "\n",
        "# Define circle\n",
        "xc = 1.0\n",
        "yc = 0.5*H\n",
        "rc = 0.2\n",
        "D=2*rc\n",
        "\n",
        "# Define subdomains (for boundary conditions)\n",
        "class Left(SubDomain):\n",
        "    def inside(self, x, on_boundary):\n",
        "        return near(x[0], 0.0)\n",
        "\n",
        "class Right(SubDomain):\n",
        "    def inside(self, x, on_boundary):\n",
        "        return near(x[0], L)\n",
        "\n",
        "class Lower(SubDomain):\n",
        "    def inside(self, x, on_boundary):\n",
        "        return near(x[1], 0.0)\n",
        "\n",
        "class Upper(SubDomain):\n",
        "    def inside(self, x, on_boundary):\n",
        "        return near(x[1], H)\n",
        "\n",
        "left = Left()\n",
        "right = Right()\n",
        "lower = Lower()\n",
        "upper = Upper()\n",
        "\n",
        "# Generate mesh (examples with and without a hole in the mesh)\n",
        "resolution = 16\n",
        "mesh = generate_mesh(Rectangle(Point(0.0,0.0), Point(L,H)) - Circle(Point(xc,yc),rc), resolution)\n",
        "\n",
        "# Local mesh refinement (specified by a cell marker)\n",
        "no_levels = 32\n",
        "for i in range(0,no_levels):\n",
        "  cell_marker = MeshFunction(\"bool\", mesh, mesh.topology().dim())\n",
        "  for cell in cells(mesh):\n",
        "    cell_marker[cell] = False\n",
        "    p = cell.midpoint()\n",
        "    if p.distance(Point(xc, yc)) < 1.0:\n",
        "        cell_marker[cell] = True\n",
        "  mesh = refine(mesh, cell_marker)\n",
        "\n",
        "# Define mesh functions (for boundary conditions)\n",
        "boundaries = MeshFunction(\"size_t\", mesh, mesh.topology().dim()-1)\n",
        "boundaries.set_all(0)\n",
        "left.mark(boundaries, 1)\n",
        "right.mark(boundaries, 2)\n",
        "lower.mark(boundaries, 3)\n",
        "upper.mark(boundaries, 4)\n",
        "\n",
        "plt.figure()\n",
        "plot(mesh)\n",
        "plt.show()"
      ],
      "execution_count": 39,
      "outputs": [
        {
          "output_type": "error",
          "ename": "KeyboardInterrupt",
          "evalue": "",
          "traceback": [
            "\u001b[0;31m---------------------------------------------------------------------------\u001b[0m",
            "\u001b[0;31mKeyboardInterrupt\u001b[0m                         Traceback (most recent call last)",
            "\u001b[0;32m<ipython-input-39-035da269055a>\u001b[0m in \u001b[0;36m<cell line: 0>\u001b[0;34m()\u001b[0m\n\u001b[1;32m     44\u001b[0m     \u001b[0;32mif\u001b[0m \u001b[0mp\u001b[0m\u001b[0;34m.\u001b[0m\u001b[0mdistance\u001b[0m\u001b[0;34m(\u001b[0m\u001b[0mPoint\u001b[0m\u001b[0;34m(\u001b[0m\u001b[0mxc\u001b[0m\u001b[0;34m,\u001b[0m \u001b[0myc\u001b[0m\u001b[0;34m)\u001b[0m\u001b[0;34m)\u001b[0m \u001b[0;34m<\u001b[0m \u001b[0;36m1.0\u001b[0m\u001b[0;34m:\u001b[0m\u001b[0;34m\u001b[0m\u001b[0;34m\u001b[0m\u001b[0m\n\u001b[1;32m     45\u001b[0m         \u001b[0mcell_marker\u001b[0m\u001b[0;34m[\u001b[0m\u001b[0mcell\u001b[0m\u001b[0;34m]\u001b[0m \u001b[0;34m=\u001b[0m \u001b[0;32mTrue\u001b[0m\u001b[0;34m\u001b[0m\u001b[0;34m\u001b[0m\u001b[0m\n\u001b[0;32m---> 46\u001b[0;31m   \u001b[0mmesh\u001b[0m \u001b[0;34m=\u001b[0m \u001b[0mrefine\u001b[0m\u001b[0;34m(\u001b[0m\u001b[0mmesh\u001b[0m\u001b[0;34m,\u001b[0m \u001b[0mcell_marker\u001b[0m\u001b[0;34m)\u001b[0m\u001b[0;34m\u001b[0m\u001b[0;34m\u001b[0m\u001b[0m\n\u001b[0m\u001b[1;32m     47\u001b[0m \u001b[0;34m\u001b[0m\u001b[0m\n\u001b[1;32m     48\u001b[0m \u001b[0;31m# Define mesh functions (for boundary conditions)\u001b[0m\u001b[0;34m\u001b[0m\u001b[0;34m\u001b[0m\u001b[0m\n",
            "\u001b[0;31mKeyboardInterrupt\u001b[0m: "
          ]
        }
      ]
    },
    {
      "cell_type": "markdown",
      "metadata": {
        "id": "-le1iA8u3fS-"
      },
      "source": [
        "**Define finite element approximation spaces**"
      ]
    },
    {
      "cell_type": "code",
      "metadata": {
        "id": "uWeyBcYXuaPq"
      },
      "source": [
        "# Generate finite element spaces (for velocity and pressure)\n",
        "V = VectorFunctionSpace(mesh, \"Lagrange\", 1)\n",
        "Q = FunctionSpace(mesh, \"Lagrange\", 1)\n",
        "\n",
        "# Define trial and test functions\n",
        "u = TrialFunction(V)\n",
        "p = TrialFunction(Q)\n",
        "v = TestFunction(V)\n",
        "q = TestFunction(Q)"
      ],
      "execution_count": null,
      "outputs": []
    },
    {
      "cell_type": "markdown",
      "metadata": {
        "id": "OKzE7v-B3o9R"
      },
      "source": [
        "**Define boundary conditions**"
      ]
    },
    {
      "cell_type": "code",
      "metadata": {
        "id": "WAsDDvdKujQT"
      },
      "source": [
        "# Define boundary conditions\n",
        "class DirichletBoundaryLower(SubDomain):\n",
        "    def inside(self, x, on_boundary):\n",
        "        return on_boundary and near(x[1], 0.0)\n",
        "\n",
        "class DirichletBoundaryUpper(SubDomain):\n",
        "    def inside(self, x, on_boundary):\n",
        "        return on_boundary and near(x[1], H)\n",
        "\n",
        "class DirichletBoundaryLeft(SubDomain):\n",
        "    def inside(self, x, on_boundary):\n",
        "        return on_boundary and near(x[0], 0.0)\n",
        "\n",
        "class DirichletBoundaryRight(SubDomain):\n",
        "    def inside(self, x, on_boundary):\n",
        "        return on_boundary and near(x[0], L)\n",
        "\n",
        "class DirichletBoundaryObjects(SubDomain):\n",
        "    def inside(self, x, on_boundary):\n",
        "        return on_boundary and (not near(x[0], 0.0)) and (not near(x[0], L)) and (not near(x[1], 0.0)) and (not near(x[1], H))\n",
        "\n",
        "dbc_lower = DirichletBoundaryLower()\n",
        "dbc_upper = DirichletBoundaryUpper()\n",
        "dbc_left = DirichletBoundaryLeft()\n",
        "dbc_right = DirichletBoundaryRight()\n",
        "dbc_objects = DirichletBoundaryObjects()\n",
        "\n",
        "# Examples of time dependent and stationary inflow conditions\n",
        "#uin = Expression('4.0*x[1]*(1-x[1])', element = V.sub(0).ufl_element())\n",
        "#uin = Expression('1.0 + 1.0*fabs(sin(t))', element = V.sub(0).ufl_element(), t=0.0)\n",
        "uin = 1.0\n",
        "U=1.0\n",
        "bcu_in0 = DirichletBC(V.sub(0), uin, dbc_left)\n",
        "bcu_in1 = DirichletBC(V.sub(1), 0.0, dbc_left)\n",
        "bcu_upp0 = DirichletBC(V.sub(0), 0.0, dbc_upper)\n",
        "bcu_upp1 = DirichletBC(V.sub(1), 0.0, dbc_upper)\n",
        "bcu_low0 = DirichletBC(V.sub(0), 0.0, dbc_lower)\n",
        "bcu_low1 = DirichletBC(V.sub(1), 0.0, dbc_lower)\n",
        "bcu_obj0 = DirichletBC(V.sub(0), 0.0, dbc_objects)\n",
        "bcu_obj1 = DirichletBC(V.sub(1), 0.0, dbc_objects)\n",
        "\n",
        "pin = Expression('5.0*fabs(sin(t))', element = Q.ufl_element(), t=0.0)\n",
        "pout = 0.0\n",
        "#bcp0 = DirichletBC(Q, pin, dbc_left)\n",
        "bcp1 = DirichletBC(Q, pout, dbc_right)\n",
        "\n",
        "#bcu = [bcu_in0, bcu_in1, bcu_upp0, bcu_upp1, bcu_low0, bcu_low1, bcu_obj0, bcu_obj1]\n",
        "bcu = [bcu_in0, bcu_in1, bcu_upp1, bcu_low1, bcu_obj0, bcu_obj1]\n",
        "bcp = [bcp1]\n",
        "\n",
        "# Define measure for boundary integration\n",
        "ds = Measure('ds', domain=mesh, subdomain_data=boundaries)"
      ],
      "execution_count": null,
      "outputs": []
    },
    {
      "cell_type": "markdown",
      "metadata": {
        "id": "SsQLT38gVbn_"
      },
      "source": [
        "# **Results**"
      ]
    },
    {
      "cell_type": "markdown",
      "metadata": {
        "id": "ii29EOP6hDUE"
      },
      "source": [
        "**Define flow parameters**"
      ]
    },
    {
      "cell_type": "code",
      "metadata": {
        "id": "Mzo6gQnBhDUE"
      },
      "source": [
        "# Set viscosity\n",
        "Re=100 #(test for Re=1,10,100,1000)\n",
        "nu = (D*U)/Re"
      ],
      "execution_count": null,
      "outputs": []
    },
    {
      "cell_type": "markdown",
      "metadata": {
        "id": "KWD2xkgLhDUF"
      },
      "source": [
        "**Define method parameters**"
      ]
    },
    {
      "cell_type": "code",
      "metadata": {
        "id": "fKE2O0ykhDUF"
      },
      "source": [
        "# Define iteration functions\n",
        "# (u0,p0) solution from previous time step\n",
        "# (u1,p1) linearized solution at present time step\n",
        "u0 = Function(V)\n",
        "u1 = Function(V)\n",
        "p0 = Function(Q)\n",
        "p1 = Function(Q)\n",
        "\n",
        "# Set parameters for nonlinear and lienar solvers\n",
        "num_nnlin_iter = 5\n",
        "prec = \"amg\" if has_krylov_solver_preconditioner(\"amg\") else \"default\"\n",
        "\n",
        "# Time step length\n",
        "dt = 0.5*mesh.hmin()"
      ],
      "execution_count": null,
      "outputs": []
    },
    {
      "cell_type": "markdown",
      "metadata": {
        "id": "NnywkjkhhDUF"
      },
      "source": [
        "**Define variational problem**"
      ]
    },
    {
      "cell_type": "code",
      "metadata": {
        "id": "FJUlggZDhDUG"
      },
      "source": [
        "# Define variational problem\n",
        "\n",
        "# Stabilization parameters\n",
        "h = CellDiameter(mesh);\n",
        "u_mag = sqrt(dot(u1,u1))\n",
        "d1 = 1.0/sqrt((pow(1.0/dt,2.0) + pow(u_mag/h,2.0)))\n",
        "d2 = h*u_mag\n",
        "\n",
        "# Mean velocities for trapozoidal time stepping\n",
        "um = 0.5*(u + u0)\n",
        "um1 = 0.5*(u1 + u0)\n",
        "\n",
        "# Momentum variational equation on residual form\n",
        "Fu = inner((u - u0)/dt + grad(um)*um1, v)*dx - p1*div(v)*dx + nu*inner(grad(um), grad(v))*dx \\\n",
        "    + d1*inner((u - u0)/dt + grad(um)*um1 + grad(p1), grad(v)*um1)*dx + d2*div(um)*div(v)*dx\n",
        "au = lhs(Fu)\n",
        "Lu = rhs(Fu)\n",
        "\n",
        "# Continuity variational equation on residual form\n",
        "Fp = d1*inner((u1 - u0)/dt + grad(um1)*um1 + grad(p), grad(q))*dx + div(um1)*q*dx\n",
        "ap = lhs(Fp)\n",
        "Lp = rhs(Fp)"
      ],
      "execution_count": null,
      "outputs": []
    },
    {
      "cell_type": "markdown",
      "source": [
        "**Triple decomposition**"
      ],
      "metadata": {
        "id": "w8kvRLwshDUG"
      }
    },
    {
      "cell_type": "code",
      "source": [
        "import scipy.linalg.lapack as la\n",
        "import numpy as np\n",
        "\n",
        "def triple_decomposition(grad_u):\n",
        "    new_grad = np.array([[0,0,0],\n",
        "                         [0,0,0],\n",
        "                         [0,0,0]])\n",
        "    for i in range(2):\n",
        "      for j in range(2):\n",
        "        new_grad[i,j] = grad_u[i,j]\n",
        "    def dselect(arg1,arg2): return (arg2==0)\n",
        "    T = la.dgees(dselect,new_grad,sort_t = 1)[0]\n",
        "    sh = np.linalg.norm([T[0,1],T[0,2],T[1,2]+T[2,1]])\n",
        "    el = np.linalg.norm(np.diag(T))\n",
        "    rr = np.sqrt(2*min(abs(T[1,2]),abs(T[2,1]))**2)\n",
        "    return sh, el, rr"
      ],
      "metadata": {
        "id": "eUHWkGJphDUH"
      },
      "execution_count": null,
      "outputs": []
    },
    {
      "cell_type": "markdown",
      "metadata": {
        "id": "S91ldC8lhDUH"
      },
      "source": [
        "**Compute force on boundary**"
      ]
    },
    {
      "cell_type": "code",
      "metadata": {
        "id": "YQfUAzE0hDUH"
      },
      "source": [
        "# Direction - drag force\n",
        "#phi_x = 0.0\n",
        "#phi_y = 1.0\n",
        "\n",
        "# Direction - drag lift\n",
        "phi_x = 1.0\n",
        "phi_y = 0.0\n",
        "\n",
        "#psi_expression = Expression((\"0.0\",\"pow(x[0]-0.5,2.0) + pow(x[1]-1.0,2.0) - pow(0.2,2.0) < 1.e-5 ? 1. : 0.\"), element = V.ufl_element())\n",
        "psi_expression = Expression((\"near(pow(x[0]-xc,2.0) + pow(x[1]-yc,2.0) - pow(rc,2.0), 0.0) ? phi_x : 0.\",\"near(pow(x[0]-xc,2.0) + pow(x[1]-yc,2.0) - pow(rc,2.0), 0.0) ? phi_y : 0.\"), xc=xc, yc=yc, rc=rc, phi_x=phi_x, phi_y=phi_y, element = V.ufl_element())\n",
        "psi = interpolate(psi_expression, V)\n",
        "\n",
        "Force = inner((u1 - u0)/dt + grad(um1)*um1, psi)*dx - p1*div(psi)*dx + nu*inner(grad(um1), grad(psi))*dx\n",
        "\n",
        "#plt.figure()\n",
        "#plot(psi, title=\"weight function psi\")\n",
        "\n",
        "# Force normalization\n",
        "D = 2*rc\n",
        "normalization = -2.0/D\n",
        "\n",
        "c=2/(Force*D)\n",
        "print(c)"
      ],
      "execution_count": null,
      "outputs": []
    },
    {
      "cell_type": "markdown",
      "metadata": {
        "id": "F4u-EuK_hDUI"
      },
      "source": [
        "**Set plotting variables and open export files**"
      ]
    },
    {
      "cell_type": "code",
      "metadata": {
        "id": "EzvIcpRohDUI"
      },
      "source": [
        "# Open files to export solution to Paraview\n",
        "file_u = File(\"results-NS/u.pvd\")\n",
        "file_p = File(\"results-NS/p.pvd\")\n",
        "\n",
        "# Set plot frequency\n",
        "plot_time = 0\n",
        "plot_freq = 10\n",
        "\n",
        "# Force computation data\n",
        "force_array = np.array(0.0)\n",
        "force_array = np.delete(force_array, 0)\n",
        "time = np.array(0.0)\n",
        "time = np.delete(time, 0)\n",
        "start_sample_time = 1.0"
      ],
      "execution_count": null,
      "outputs": []
    },
    {
      "cell_type": "markdown",
      "metadata": {
        "id": "Ms416zyyhDUI"
      },
      "source": [
        "**Time stepping algorithm**"
      ]
    },
    {
      "cell_type": "code",
      "metadata": {
        "id": "KWdceZ7ChDUJ"
      },
      "source": [
        "!rm results-NS/*\n",
        "\n",
        "# Time stepping\n",
        "T = 30\n",
        "t = dt\n",
        "while t < T + DOLFIN_EPS:\n",
        "\n",
        "    #s = 'Time t = ' + repr(t)\n",
        "    #print(s)\n",
        "\n",
        "    pin.t = t\n",
        "    #uin.t = t\n",
        "\n",
        "    # Solve non-linear problem\n",
        "    k = 0\n",
        "    while k < num_nnlin_iter:\n",
        "\n",
        "        # Assemble momentum matrix and vector\n",
        "        Au = assemble(au)\n",
        "        bu = assemble(Lu)\n",
        "\n",
        "        # Compute velocity solution\n",
        "        [bc.apply(Au, bu) for bc in bcu]\n",
        "        [bc.apply(u1.vector()) for bc in bcu]\n",
        "        solve(Au, u1.vector(), bu, \"bicgstab\", \"default\")\n",
        "\n",
        "        # Assemble continuity matrix and vector\n",
        "        Ap = assemble(ap)\n",
        "        bp = assemble(Lp)\n",
        "\n",
        "        # Compute pressure solution\n",
        "        [bc.apply(Ap, bp) for bc in bcp]\n",
        "        [bc.apply(p1.vector()) for bc in bcp]\n",
        "        solve(Ap, p1.vector(), bp, \"bicgstab\", prec)\n",
        "\n",
        "        # Compute force\n",
        "        F = assemble(Force)\n",
        "        if (t > start_sample_time):\n",
        "          force_array = np.append(force_array, normalization*F)\n",
        "          time = np.append(time, t)\n",
        "\n",
        "        k += 1\n",
        "\n",
        "    if t > plot_time:\n",
        "\n",
        "        s = 'Time t = ' + repr(t)\n",
        "        print(s)\n",
        "\n",
        "        # Save solution to file\n",
        "        file_u << u1\n",
        "        file_p << p1\n",
        "\n",
        "        # Triple decomposition\n",
        "        V = TensorFunctionSpace(mesh, 'P', 1)\n",
        "        grad_u1_prel = nabla_grad(u1)\n",
        "        grad_u1 = project(grad_u1_prel, V)\n",
        "\n",
        "        V2 = FunctionSpace(mesh, 'CG', 1)\n",
        "        shear = Function(V2)\n",
        "        elongation = Function(V2)\n",
        "        rotation = Function(V2)\n",
        "        dofmap = V2.dofmap()\n",
        "\n",
        "        # Divergence\n",
        "        divu = Function(V2)\n",
        "\n",
        "        for vertex in vertices(mesh):\n",
        "            point = vertex.point()\n",
        "            grad_u1_point = grad_u1(point) # Evaluate the gradient tensor at the current point\n",
        "            grad_u1_matrix = matrix = np.array([\n",
        "                                                [grad_u1_point[0],grad_u1_point[1] ],\n",
        "                                                [grad_u1_point[2], grad_u1_point[3]]\n",
        "                                                                                       ])\n",
        "            sh, el, rr = triple_decomposition(grad_u1_matrix)\n",
        "            vertex_index = vertex.index()\n",
        "            dof_index = vertex_to_dof_map(V2)[vertex_index]\n",
        "            shear.vector()[dof_index] = sh\n",
        "            elongation.vector()[dof_index] = el\n",
        "            rotation.vector()[dof_index] = rr\n",
        "\n",
        "            divu_vert = grad_u1_point[0] + grad_u1_point[3]\n",
        "            divu.vector()[dof_index] = divu_vert\n",
        "\n",
        "        # Plot Triple Decomposition\n",
        "        fig, axes = plt.subplots(1, 3, figsize=(15, 5))\n",
        "        ax = plt.subplot(1, 3, 1)\n",
        "        im = plot(shear, title = \"Shear\")\n",
        "        plt.colorbar(im)\n",
        "        ax = plt.subplot(1, 3, 2)\n",
        "        im = plot(elongation, title = \"Strain\")\n",
        "        plt.colorbar(im)\n",
        "        ax = plt.subplot(1, 3, 3)\n",
        "        im = plot(rotation, title = \"Rotation\")\n",
        "        plt.colorbar(im)\n",
        "        plt.tight_layout()\n",
        "        plt.show()\n",
        "\n",
        "        # Plot divergence\n",
        "        plt.figure()\n",
        "        im = plot(divu, title=\"divergence\")\n",
        "        plt.colorbar(im)\n",
        "\n",
        "        # Plot solution\n",
        "        plt.figure()\n",
        "        plot(u1, title=\"Velocity\")\n",
        "\n",
        "        plt.figure()\n",
        "        plot(p1, title=\"Pressure\")\n",
        "\n",
        "        plot_time += T/plot_freq\n",
        "\n",
        "        plt.show()\n",
        "\n",
        "        plt.figure()\n",
        "        plt.title(\"Force\")\n",
        "        plt.plot(time, force_array)\n",
        "        plt.show()\n",
        "\n",
        "    # Update time step\n",
        "    u0.assign(u1)\n",
        "    t += dt\n",
        "\n",
        "#!tar -czvf results-NS.tar.gz results-NS\n",
        "#files.download('results-NS.tar.gz')"
      ],
      "execution_count": null,
      "outputs": []
    },
    {
      "cell_type": "markdown",
      "metadata": {
        "id": "_4GLBv0zWr7m"
      },
      "source": [
        "# **Discussion**"
      ]
    },
    {
      "cell_type": "markdown",
      "metadata": {
        "id": "6bcsDSoRXHZe"
      },
      "source": [
        "A stabilized finite element method was implemented in FEniCS to solve the Navier-Stokes equations in 2D. The method was tested for the model problem of flow past a circular obstacle, and for a high enough Reynolds number and sufficient mesh resolution [a von Karman vortex street developed as expected.](https://en.wikipedia.org/wiki/Kármán_vortex_street)"
      ]
    },
    {
      "cell_type": "markdown",
      "source": [
        "# **1. Reynolds number**\n",
        "\n"
      ],
      "metadata": {
        "id": "mP-I5EqSaOec"
      }
    },
    {
      "cell_type": "markdown",
      "source": [
        "### **Re=1**\n"
      ],
      "metadata": {
        "id": "lKhp3265eL2K"
      }
    },
    {
      "cell_type": "markdown",
      "source": [
        "At the beginning :\n",
        "![1_début.png](data:image/png;base64,iVBORw0KGgoAAAANSUhEUgAABcYAAAHqCAYAAAAu1Z3mAAAAOnRFWHRTb2Z0d2FyZQBNYXRwbG90bGliIHZlcnNpb24zLjEwLjAsIGh0dHBzOi8vbWF0cGxvdGxpYi5vcmcvlHJYcgAAAAlwSFlzAAAPYQAAD2EBqD+naQAAovdJREFUeJzs3Xl4VOX5//HP7JNtwpoEMOzKIjsIBrVKRRAphbZuqAVRsSpYkW9dsAq4goqIVQRREW2LWDfKryqI1EgtKJu0oBVFECglYU1CEmbJzPz+mMxkJplAApN13q/rmovMmeec8xykvXPuuc/9GPx+v18AAAAAAAAAAMQJY11PAAAAAAAAAACA2kRiHAAAAAAAAAAQV0iMAwAAAAAAAADiColxAAAAAAAAAEBcITEOAAAAAAAAAIgrJMYBAAAAAAAAAHGFxDgAAAAAAAAAIK6QGAcAAAAAAAAAxBUS4wAAAAAAAACAuEJiHAAAAAAAAAAQV0iMAwDi2tq1azVq1Ci1bt1aBoNBy5cvD33m8Xh03333qWfPnkpKSlLr1q01btw4/e9//zvlcefPn6/27dvLbrdr0KBB2rBhQw1eBQAA8WP//v264YYb1Lx5cyUkJKhnz57atGnTSffJzs5Wv379ZLPZ1LlzZy1ZsqTCGGI3AAA142T33afyz3/+U2azWX369Kl0zOzZs2UwGDRlypRqzYvEOAAgrhUVFal3796aP39+hc+Ki4u1ZcsWPfTQQ9qyZYvee+897dixQz//+c9Pesy33npLU6dO1YwZM7Rlyxb17t1bw4cP18GDB2vqMgAAiAvHjh3TBRdcIIvFoo8++kjffPONnnnmGTVt2rTSfXbv3q2RI0dqyJAh2rp1q6ZMmaJbbrlFq1atCo0hdgMAUHNOdt99Mnl5eRo3bpwuvfTSSsds3LhRL730knr16lXteRn8fr+/2nsBANAIGQwGvf/++xozZkylYzZu3KiBAwdqz549atu2bdQxgwYN0nnnnacXXnhBkuTz+ZSZmak777xT999/f01MHQCAuHD//ffrn//8p/7xj39UeZ/77rtPH3zwgbZv3x7adu211yovL08rV66UROwGAKC2VOW+O+jaa6/V2WefLZPJpOXLl2vr1q0RnxcWFqpfv3568cUX9dhjj6lPnz6aN29eledCxTgAANWQn58vg8GgJk2aRP3c7XZr8+bNGjp0aGib0WjU0KFDtX79+lqaJQAAjdOKFSs0YMAAXXXVVUpLS1Pfvn318ssvn3Sf9evXR8RlSRo+fHgoLhO7AQCof1577TXt2rVLM2bMqHTMpEmTNHLkyApxvqrMpzs5AADOhNPplNvtjvlx/X6/DAZDxDabzSabzXbGx3Y6nbrvvvs0duxYORyOqGMOHz4sr9er9PT0iO3p6en69ttvz3gOAADUlfoQu3ft2qUFCxZo6tSpeuCBB7Rx40b99re/ldVq1fjx46MePycnJ2pcLigo0IkTJ3Ts2DFiNwCg0ampuC3V7H23JH3//fe6//779Y9//ENmc/T09bJly7RlyxZt3LjxtM9DYhwAUOucTqfat0tW7kFvzI+dnJyswsLCiG0zZszQzJkzz+i4Ho9HV199tfx+vxYsWHBGxwIAoKGpL7Hb5/NpwIABeuKJJyRJffv21fbt27Vw4cJKE+MAAMSbmozbUs3dd0uS1+vVddddp4cffljnnHNO1DH79u3TXXfdpdWrV8tut5/2uUiMAwBqndvtVu5Br77bdJYcKbHr6lVw3KdzBvxX+/bti6joPtNvrYNJ8T179ujvf/97pdXiktSiRQuZTCbl5uZGbM/NzVVGRsYZzQMAgLpSX2J3q1at1L1794ht3bp107vvvlvpOTIyMqLGZYfDoYSEBJlMJmI3AKBRqam4LdXcfXfQ8ePHtWnTJn311VeaPHmypMAX436/X2azWR9//LEKCgp08OBB9evXL7Sf1+vV2rVr9cILL8jlcslkMp3yXCTGAQB1xpFijHmQliSHw3HS5HV1BJPi33//vT799FM1b978pOOtVqv69++vNWvWhBYT8fl8WrNmTSioAwDQUNV17L7gggu0Y8eOiG3fffed2rVrV+k+WVlZ+vDDDyO2rV69WllZWZKI3QCAxqum4rYU2/vu8sfdtm1bxLYXX3xRf//73/XOO++oQ4cO8vl8FcZMmDBBXbt21X333VelpLhEYhwAEOcKCwu1c+fO0Pvdu3dr69atatasmVq1aqUrr7xSW7Zs0d/+9jd5vV7l5ORIkpo1ayar1SpJuvTSS/WLX/widPM8depUjR8/XgMGDNDAgQM1b948FRUVacKECbV/gQAANCJ33323Bg8erCeeeEJXX321NmzYoEWLFmnRokWhMdOmTdP+/fv1xhtvSJJuu+02vfDCC7r33nt100036e9//7v+8pe/6IMPPgjtQ+wGAKDmnOy+u23bthGx22g0qkePHhH7p6WlyW63R2wvPyYpKUnNmzevsP1kSIwDAOLapk2bNGTIkND7qVOnSpLGjx+vmTNnasWKFZKkPn36ROz36aef6pJLLpEk/fDDDzp8+HDos2uuuUaHDh3S9OnTlZOToz59+mjlypUVFvUCAADVc9555+n999/XtGnT9Mgjj6hDhw6aN2+err/++tCYAwcOaO/evaH3HTp00AcffKC7775bzz33nM466yy98sorGj58eGgMsRsAgJpzsvvuJUuWVIjdtcXg9/v9tX5WAEBcKygoUGpqqnJ2tI15n9KMLnuVn59fI490AQAQr4jdAAA0HDUVt6XGFbtrpskMAAAAAAAAAAD1FIlxAAAAAAAAAEBcITEOAAAAAAAAAIgrJMYBAAAAAAAAAHGFxDgAAAAAAAAAIK6Y63oCAID4VeBzye+L3Xe0x32+mB0LAABUROwGAACNBYlxAAAAAAAAAGhk8nwueWP4hbbUuL7UppUKAAAAAAAAACCukBgHAAAAAAAAAMQVEuMAAAAAAAAAgLhCYhwAAAAAAAAAEFdIjAMAAAAAAAAA4gqJcQAAAAAAAABAXCExDgAAAAAAAACIKyTGAQAAAAAAAABxhcQ4AAAAAAAAACCumOt6AgCA+FXgk3y+2B2vMIbHAgAAFRG7AQBAY0HFOAAAAAAAAAAgrpAYBwAAAAAAAADEFVqpAAAAAAAAAEAjc9RnlNsX27roxtQGjYpxAAAAAAAAAEBcITEOAAAAAAAAAIgrJMYBAAAAAAAAAHGFxDgAAAAAAAAAIK6QGAcAAAAAAAAAxBUS4wAAAAAAAACAuEJiHAAAAAAAAAAQV0iMAwAAAAAAAADiirmuJwAAiF9HfXa5fLH7jrbI54vZsQAAQEXEbgAA0FhQMQ4AAAAAAAAAiCskxgEAAAAAAAAAcYXEOAAAAAAAAAAgrtBjHAAAAAAAAAAamWPeBLm9ppges8jrjenx6hIV4wAAAAAAAACAuEJiHAAAAAAAAAAQV0iMAwAAAAAAAADiColxAAAAAAAAAEBcITEOAAAAAAAAAIgrJMYBAAAAAAAAAHHFXNcTAADEr3xfgjw+U8yOV+zzxuxYAACgImI3AABoLKgYBwAAAAAAAADUiLVr12rUqFFq3bq1DAaDli9fftLx7733ni677DK1bNlSDodDWVlZWrVqVcQYr9erhx56SB06dFBCQoI6deqkRx99VH6/v8rzIjEOAAAAAAAAAKgRRUVF6t27t+bPn1+l8WvXrtVll12mDz/8UJs3b9aQIUM0atQoffXVV6ExTz75pBYsWKAXXnhB//nPf/Tkk0/qqaee0vPPP1/ledFKBQAAAAAAAABQI0aMGKERI0ZUefy8efMi3j/xxBP661//qv/3//6f+vbtK0lat26dRo8erZEjR0qS2rdvrzfffFMbNmyo8nmoGAcAAAAAAAAAVFlBQUHEy+Vy1di5fD6fjh8/rmbNmoW2DR48WGvWrNF3330nSfrXv/6lzz//vFoJeCrGAQAAAAAAAKCROepNktMbu0WzJanYG1g4OzMzM2L7jBkzNHPmzJieK2jOnDkqLCzU1VdfHdp2//33q6CgQF27dpXJZJLX69Xjjz+u66+/vsrHJTEOAAAAAAAAAKiyffv2yeFwhN7bbLYaOc/SpUv18MMP669//avS0tJC2//yl7/oz3/+s5YuXapzzz1XW7du1ZQpU9S6dWuNHz++SsemlQoAIK6danVsv9+v6dOnq1WrVkpISNDQoUP1/fffn/SYM2fOlMFgiHh17dq1Bq8CAID4UN0Y+/LLL+uiiy5S06ZN1bRpUw0dOrRC79Ebb7yxwjEvv/zymr4UAAAaNIfDEfGqicT4smXLdMstt+gvf/mLhg4dGvHZPffco/vvv1/XXnutevbsqV//+te6++67NWvWrCofn8Q4ACCunWp17Keeekp/+MMftHDhQn355ZdKSkrS8OHD5XQ6T3rcc889VwcOHAi9Pv/885qYPgAAcac6MTY7O1tjx47Vp59+qvXr1yszM1PDhg3T/v37I8ZdfvnlEcd88803a/oyAADASbz55puaMGGC3nzzzdACm+GKi4tlNEamtk0mk3w+X5XPQSsVAEBcO9nq2H6/X/PmzdODDz6o0aNHS5LeeOMNpaena/ny5br22msrPa7ZbFZGRkaNzBkAgHhWnRj75z//OeL9K6+8onfffVdr1qzRuHHjQtttNhtxGwCAGlJYWKidO3eG3u/evVtbt25Vs2bN1LZtW02bNk379+/XG2+8ISnQPmX8+PF67rnnNGjQIOXk5EiSEhISlJqaKkkaNWqUHn/8cbVt21bnnnuuvvrqK82dO1c33XRTledFxTgAAJXYvXu3cnJyIh7ZSk1N1aBBg7R+/fqT7vv999+rdevW6tixo66//nrt3bu3pqcLAEBcOJMYW1xcLI/Ho2bNmkVsz87OVlpamrp06aLbb79dR44cifW0AQCIW5s2bVLfvn3Vt29fSdLUqVPVt29fTZ8+XZJ04MCBiHi+aNEilZSUaNKkSWrVqlXoddddd4XGPP/887ryyit1xx13qFu3bvrd736n3/zmN3r00UerPC8qxgEAjU5BQUHEe5vNdlr9zoLfSqenp0dsT09PD30WzaBBg7RkyRJ16dJFBw4c0MMPP6yLLrpI27dvV0pKSrXnAQBAY1fV2H2mMfa+++5T69atI770vvzyy/XLX/5SHTp00A8//KAHHnhAI0aM0Pr162Uymc784gAAiHOXXHKJ/H5/pZ8vWbIk4n12dvYpj5mSkqJ58+Zp3rx5pz0vEuMAgDpz1JukEyWxC0UnvCWSpMzMzIjtM2bM0MyZM2N2nlMJb83Sq1cvDRo0SO3atdNf/vIX3XzzzbU2DwAAYq2uY/eZxNjZs2dr2bJlys7Olt1uD20Pb43Ws2dP9erVS506dVJ2drYuvfTS07ksAADQAJAYBwA0Ovv27ZPD4Qi9P93VsYO9RnNzc9WqVavQ9tzcXPXp06fKx2nSpInOOeeciJ5qAACgzOnG7qrG2Dlz5mj27Nn65JNP1KtXr5OO7dixo1q0aKGdO3eSGAcAoBGjxzgAoNFxOBwRr9NNjHfo0EEZGRlas2ZNaFtBQYG+/PJLZWVlVfk4hYWF+uGHHyKS6wAAoMzpxu6qxNinnnpKjz76qFauXKkBAwac8pj//e9/deTIEeI2AACNHIlxAEBcKyws1NatW7V161ZJZatj7927VwaDQVOmTNFjjz2mFStWaNu2bRo3bpxat26tMWPGhI5x6aWX6oUXXgi9/93vfqfPPvtMP/74o9atW6df/OIXMplMGjt2bC1fHQAAjcupYuy4ceM0bdq00Pgnn3xSDz30kBYvXqz27dsrJydHOTk5KiwslBT4PeCee+7RF198oR9//FFr1qzR6NGj1blzZw0fPrxOrhEAANQOWqkAAOLapk2bNGTIkND7qVOnSpLGjx+vJUuW6N5771VRUZFuvfVW5eXl6cILL9TKlSsjepP+8MMPOnz4cOj9f//7X40dO1ZHjhxRy5YtdeGFF+qLL75Qy5Yta+/CAABohE4VY/fu3Sujsaz+a8GCBXK73bryyisjjhPsYW4ymfTvf/9br7/+uvLy8tS6dWsNGzZMjz766Gk/cQYAABoGg/9kS4ICAFADCgoKlJqaqpe29FdCcgwX8Cos0W/6bVZ+fn5En1IAAHBmiN0AADQcwbj9x696KjHFFNNjFx/36td9tzWK2E3FOAAAAAAAAAA0Moe9KUooiW3694S3JKbHq0v0GAcAAAAAAAAAxBUS4wAAAAAAAACAuEJiHAAAAAAAAAAQV0iMAwAAAAAAAADiCotvAgDqTL43UW5v7EJRY1oEBACA+ojYDQAAGgsqxgEAAAAAAAAAcYXEOAAAAAAAAAAgrpAYBwAAAAAAAADEFRLjAAAAAAAAAIC4QmIcAAAAAAAAABBXSIwDAAAAAAAAAOIKiXEAAAAAAAAAQFwx1/UEAAAAAAAAAACxdcybqBNeS0yP6fR6Ynq8ukTFOAAAAAAAAAAgrpAYBwAAAAAAAADEFVqpAADqTIE3Qe4YPtbVmB7pAgCgPiJ2AwCAxoKKcQAAAAAAAABAXCExDgAAAAAAAACIKyTGAQAAAAAAAABxhcQ4AAAAAAAAACCukBgHAAAAAAAAAMQVEuMAAAAAAAAAgLhCYhwAAAAAAAAAEFdIjAMAAAAAAAAA4oq5ricAAAAAAAAAAIitPE+SbB5LTI/p8nhiery6RMU4AAAAAAAAACCukBgHAAAAAAAAAMQVWqkAAOpMXkmSbCWxe6zLVdJ4HukCAKA+InYDAIDGgopxAAAAAAAAAEBcITEOAAAAAAAAAIgrJMYBAAAAAAAAAHGFxDgAAAAAAAAAIK6QGAcAAAAAAAAA1Ii1a9dq1KhRat26tQwGg5YvX37S8QcOHNB1112nc845R0ajUVOmTKkw5uWXX9ZFF12kpk2bqmnTpho6dKg2bNhQrXmRGAcAAAAAAAAA1IiioiL17t1b8+fPr9J4l8ulli1b6sEHH1Tv3r2jjsnOztbYsWP16aefav369crMzNSwYcO0f//+Ks/LXOWRAAAAAAAAAABUw4gRIzRixIgqj2/fvr2ee+45SdLixYujjvnzn/8c8f6VV17Ru+++qzVr1mjcuHFVOg8V4wAAAAAAAACABqu4uFgej0fNmjWr8j5UjAMAAAAAAAAAqqygoCDivc1mk81mq6PZSPfdd59at26toUOHVnkfEuMAAAAAAAAA0MjkexJk9Vhjeky3xy1JyszMjNg+Y8YMzZw5M6bnqqrZs2dr2bJlys7Olt1ur/J+JMYBAHXmuMcmVwyDtNtDhzAAAGoSsRsAAEjSvn375HA4Qu/rqlp8zpw5mj17tj755BP16tWrWvuSGAcAAAAAAAAAVJnD4YhIjNeFp556So8//rhWrVqlAQMGVHt/EuMAAAAAAAAAgBpRWFionTt3ht7v3r1bW7duVbNmzdS2bVtNmzZN+/fv1xtvvBEas3Xr1tC+hw4d0tatW2W1WtW9e3dJ0pNPPqnp06dr6dKlat++vXJyciRJycnJSk5OrtK8SIwDAAAAAAAAAGrEpk2bNGTIkND7qVOnSpLGjx+vJUuW6MCBA9q7d2/EPn379g39vHnzZi1dulTt2rXTjz/+KElasGCB3G63rrzyyoj9qtPrnMQ4AAAAAAAAAKBGXHLJJfL7/ZV+vmTJkgrbTjZeUihBfiZY6QQAAAAAAAAAEFdIjAMAAAAAAAAA4gqJcQBAXDt+/LimTJmidu3aKSEhQYMHD9bGjRtPuk92drb69esnm82mzp07R33sCwAA1LzZs2fLYDBoypQplY5ZsmSJDAZDxMtut0eM8fv9mj59ulq1aqWEhAQNHTpU33//fQ3PHgAA1CUS4wCAuHbLLbdo9erV+uMf/6ht27Zp2LBhGjp0qPbv3x91/O7duzVy5EgNGTJEW7du1ZQpU3TLLbdo1apVtTxzAADi28aNG/XSSy+pV69epxzrcDh04MCB0GvPnj0Rnz/11FP6wx/+oIULF+rLL79UUlKShg8fLqfTWVPTBwAAdYzEOAAgbp04cULvvvuunnrqKf3kJz9R586dNXPmTHXu3FkLFiyIus/ChQvVoUMHPfPMM+rWrZsmT56sK6+8Us8++2wtzx4AgPhVWFio66+/Xi+//LKaNm16yvEGg0EZGRmhV3p6eugzv9+vefPm6cEHH9To0aPVq1cvvfHGG/rf//6n5cuX1+BVAACAukRiHAAQt0pKSuT1eis8Tp2QkKDPP/886j7r16/X0KFDI7YNHz5c69evr7F5AgCASJMmTdLIkSMrxOTKFBYWql27dsrMzNTo0aP19ddfhz7bvXu3cnJyIo6VmpqqQYMGEd8BAGjEzHU9AQAAYq2goCDivc1mk81mqzAuJSVFWVlZevTRR9WtWzelp6frzTff1Pr169W5c+eox87JyYmoMpOk9PR0FRQU6MSJE0pISIjdhQAAECeqGrsladmyZdqyZcsp1wQJ6tKlixYvXqxevXopPz9fc+bM0eDBg/X111/rrLPOUk5OjiRFje/BzwAAQONDYhwAUGcKShJk8VhjdjxPiUmSlJmZGbF9xowZmjlzZtR9/vjHP+qmm25SmzZtZDKZ1K9fP40dO1abN2+O2bwAAGgs6jp279u3T3fddZdWr15d4YmvymRlZSkrKyv0fvDgwerWrZteeuklPfroo6c/eQAA6rlYx22pLHY3BiTGAQCNzr59++RwOELvK6s4k6ROnTrps88+U1FRkQoKCtSqVStdc8016tixY9TxGRkZys3NjdiWm5srh8NBtTgAAKepqrF78+bNOnjwoPr16xfa5vV6tXbtWr3wwgtyuVwymU5+w26xWNS3b1/t3LlTUiC2S4F43qpVq9C43Nxc9enT53QvCQAA1HP0GAcANDoOhyPidbLEeFBSUpJatWqlY8eOadWqVRo9enTUcVlZWVqzZk3EttWrV0dUogEAgOqpauy+9NJLtW3bNm3dujX0GjBggK6//npt3br1lElxKZBI37ZtWygJ3qFDB2VkZETE94KCAn355ZfEdwAAGjES40A1GQwGTZ48ua6nASBGVq1apZUrV2r37t1avXq1hgwZoq5du2rChAmSpGnTpmncuHGh8bfddpt27dqle++9V99++61efPFF/eUvf9Hdd99dV5cAoI4sWbJEBoNBP/74Y11PBYgbKSkp6tGjR8QrKSlJzZs3V48ePSRJ48aN07Rp00L7PPLII/r444+1a9cubdmyRTfccIP27NmjW265RVLg9/spU6boscce04oVK7Rt2zaNGzdOrVu31pgxY+riMgHUkOzsbBkMBmVnZ9f1VADUAyTGgTDbtm3TlVdeqXbt2slut6tNmza67LLL9Pzzz9f11ADUkPz8fE2aNEldu3bVuHHjdOGFF2rVqlWyWCySpAMHDmjv3r2h8R06dNAHH3yg1atXq3fv3nrmmWf0yiuvaPjw4XV1CUDcqkrcfuKJJ7R8+fK6mySAWrd3714dOHAg9P7YsWOaOHGiunXrpiuuuEIFBQVat26dunfvHhpz77336s4779Stt96q8847T4WFhVq5cmWV+5gD8Sz4RXHwZTab1aZNG914443av39/tY+3bt06zZw5U3l5eac9pxdffFFLliw57f0BxAeD3+/31/UkgPpg3bp1GjJkiNq2bavx48crIyND+/bt0xdffKEffvgh1IPQYDBo0qRJeuGFF+p4xkDDVVBQoNTUVP1i9QRZkmK4gFeRW+9f9pry8/Mj+pQCaHyqGreTk5N15ZVX1sjNsdfrlcfjkc1mk8FgiPnxgfqE2A2gMkuWLNGECRP0yCOPqEOHDnI6nfriiy+0ZMkStW/fXtu3b6/Wl0xz5szRPffco927d6t9+/anNacePXqoRYsWFSrDfT6f3G63rFarjEZqRdF41VTclhpX7GbxTaDU448/rtTUVG3cuFFNmjSJ+OzgwYN1M6lTKCkpkc/nk9Ua2/+TAwCgvquJuF1UVKSkpKQqjzeZTFXqZwwAQDwYMWKEBgwYIEm65ZZb1KJFCz355JNasWKFrr766jqeXYDRaORJEAAhfD0GlPrhhx907rnnVri5lqS0tLQK25YvX64ePXrIZrPp3HPP1cqVKyuM2b9/v2666Salp6eHxi1evDhijNvt1vTp09W/f3+lpqYqKSlJF110kT799NOIcT/++KMMBoPmzJmjefPmqVOnTrLZbPrmm2/O7MIBAGiAqhK3DQaDioqK9Prrr4ce777xxhslSTNnzpTBYNA333yj6667Tk2bNtWFF14oSfr3v/+tG2+8UR07dpTdbldGRoZuuukmHTlyJOI80XqMt2/fXj/72c/0+eefa+DAgbLb7erYsaPeeOONGvl7AACgvrroooskBWJ20N///ndddNFFSkpKUpMmTTR69Gj95z//CX0+c+ZM3XPPPZICLQyD8TsYa1977TX99Kc/VVpammw2m7p3764FCxZEnLd9+/b6+uuv9dlnn4X2v+SSSyRV3mP87bffVv/+/ZWQkKAWLVrohhtuqNAG5sYbb1RycrL279+vMWPGKDk5WS1bttTvfvc7eb3eWPyVAahlVIwDpdq1a6f169dr+/btoYV7KvP555/rvffe0x133KGUlBT94Q9/0K9+9Svt3btXzZs3lyTl5ubq/PPPDy3W2bJlS3300Ue6+eabVVBQoClTpkgKPN7yyiuvaOzYsZo4caKOHz+uV199VcOHD9eGDRvUp0+fiHO/9tprcjqduvXWW2Wz2dSsWbOa+OsAAKBeq0rc/uMf/6hbbrlFAwcO1K233ipJ6tSpU8SYq666SmeffbaeeOIJBTsMrl69Wrt27dKECROUkZGhr7/+WosWLdLXX3+tL7744pRtU3bu3Kkrr7xSN998s8aPH6/FixfrxhtvVP/+/XXuuefG4OoBAKj/gsnspk2bSpI++eQTjRgxQh07dtTMmTN14sQJPf/887rgggu0ZcsWtW/fXr/85S/13Xff6c0339Szzz6rFi1aSJJatmwpSVqwYIHOPfdc/fznP5fZbNb/+3//T3fccYd8Pp8mTZokSZo3b57uvPNOJScn6/e//70kKT09vdJ5BlvBnHfeeZo1a5Zyc3P13HPP6Z///Ke++uqriC/hvV6vhg8frkGDBmnOnDn65JNP9Mwzz6hTp066/fbbY/1XCKCGkRgHSv3ud7/TiBEj1KdPHw0cOFAXXXSRLr30Ug0ZMiS0CF/Qf/7zH33zzTehm+shQ4aod+/eevPNNzV58mRJ0u9//3t5vV5t27YtlCy/7bbbNHbsWM2cOVO/+c1vlJCQoKZNm+rHH3+MaIcyceJEde3aVc8//7xeffXViHP/97//1c6dO0O/GAAAEI+qErdvuOEG3XbbberYsaNuuOGGqMfp3bu3li5dGrHtjjvu0P/93/9FbDv//PM1duxYff7556EKuMrs2LFDa9euDY27+uqrlZmZqddee01z5sw53UsGAKBey8/P1+HDh+V0OvXll1/q4Ycfls1m089+9jNJ0j333KNmzZpp/fr1oQKvMWPGqG/fvpoxY4Zef/119erVS/369dObb76pMWPGVOgx/tlnnykhISH0fvLkybr88ss1d+7cUGJ8zJgxevDBB0OV3yfj8Xh03333qUePHlq7dm2ozcqFF16on/3sZ3r22Wf18MMPh8Y7nU5dc801euihhyQF7vH79eunV199lcQ40ADRSgUoddlll2n9+vX6+c9/rn/961966qmnNHz4cLVp00YrVqyIGDt06NCIirNevXrJ4XBo165dkiS/3693331Xo0aNkt/v1+HDh0Ov4cOHKz8/X1u2bJEU6E8aTIr7fD4dPXpUJSUlGjBgQGhMuF/96lckxQEAca86cftkbrvttgrbwm+4nU6nDh8+rPPPP1+Sosbm8rp37x6RPG/ZsqW6dOkS+j0BAIDGaOjQoWrZsqUyMzN15ZVXKikpSStWrNBZZ52lAwcOaOvWrbrxxhsjnnru1auXLrvsMn344YdVOkd4jA4m4i+++GLt2rVL+fn51Z7zpk2bdPDgQd1xxx0RvcdHjhyprl276oMPPqiwT/nfHS666CJiPNBAUTEOhDnvvPP03nvvye1261//+pfef/99Pfvss7ryyiu1detWde/eXZLUtm3bCvs2bdpUx44dkyQdOnRIeXl5WrRokRYtWhT1XOELg73++ut65pln9O2338rj8YS2d+jQocJ+0bYBDVWhxyqLJ3aLx4b9zwdAHKhq3D6ZaHH16NGjevjhh7Vs2bIKC3lW5ab7VL8nAA0ZsRtAZebPn69zzjlH+fn5Wrx4sdauXSubzSZJ2rNnjySpS5cuFfbr1q2bVq1aVaVFsP/5z39qxowZWr9+vYqLiyM+y8/PV2pqarXmfLJ5de3aVZ9//nnENrvdXqFQjRgPNFwkxoEorFarzjvvPJ133nk655xzNGHCBL399tuaMWOGpECVdzTB3qQ+n09S4BHu8ePHRx3bq1cvSdKf/vQn3XjjjRozZozuuecepaWlyWQyadasWRGLlASFf0MOAABOHbdPJlpcvfrqq7Vu3Trdc8896tOnj5KTk+Xz+XT55ZeHYvzJnOr3BAAAGqOBAwdqwIABkgLtTC688EJdd9112rFjR0yO/8MPP+jSSy9V165dNXfuXGVmZspqterDDz/Us88+W6UYfaYqi/FAfXXcY5XZY4vpMUsa0ZfaJMaBUwgG9gMHDlR5n5YtWyolJUVer1dDhw496dh33nlHHTt21HvvvRexmFdVbuYBAECk8nH7VAtllnfs2DGtWbNGDz/8sKZPnx7a/v3338dukgAANHLBYq8hQ4bohRdeCBWMRUuSf/vtt2rRokWoWryy2P3//t//k8vl0ooVKyKezvr0008rjK1q/G/Xrl1oXj/96U8jPtuxY0focwCNEz3GgVKffvpp1EquYK+zaI9WVcZkMulXv/qV3n33XW3fvr3C54cOHYoYK0VWkX355Zdav359lc8HAEC8qWrcTkpKUl5eXpWPGy0uS9K8efNOb6IAAMSpSy65RAMHDtS8efPUtGlT9enTR6+//npEXN6+fbs+/vhjXXHFFaFtwQR5+fgdLUbn5+frtddeq3Duqsb/AQMGKC0tTQsXLpTL5Qpt/+ijj/Sf//xHI0eOrMqlAmigqBgHSt15550qLi7WL37xC3Xt2lVut1vr1q3TW2+9pfbt22vChAnVOt7s2bP16aefatCgQZo4caK6d++uo0ePasuWLfrkk0909OhRSdLPfvYzvffee/rFL36hkSNHavfu3Vq4cKG6d++uwsLCmrhUAAAavKrG7f79++uTTz7R3Llz1bp1a3Xo0EGDBg2q9LgOh0M/+clP9NRTT8nj8ahNmzb6+OOPtXv37tq6NAAAGo177rlHV111lZYsWaKnn35aI0aMUFZWlm6++WadOHFCzz//vFJTUzVz5szQPv3795ck/f73v9e1114ri8WiUaNGadiwYbJarRo1apR+85vfqLCwUC+//LLS0tIqPOHdv39/LViwQI899pg6d+6stLS0ChXhkmSxWPTkk09qwoQJuvjiizV27Fjl5ubqueeeU/v27XX33XfX6N8PgLpFYhwoNWfOHL399tv68MMPtWjRIrndbrVt21Z33HGHHnzwQTVp0qRax0tPT9eGDRv0yCOP6L333tOLL76o5s2b69xzz9WTTz4ZGnfjjTcqJydHL730klatWqXu3bvrT3/6k95++21lZ2fH9iIBAGgkqhq3586dq1tvvVUPPvigTpw4ofHjx580MS5JS5cu1Z133qn58+fL7/dr2LBh+uijj9S6detauDIAABqPX/7yl+rUqZPmzJmjHTt2aOXKlZoxY4amT58ui8Wiiy++WE8++WTEYtjnnXeeHn30US1cuFArV66Uz+fT7t271aVLF73zzjt68MEH9bvf/U4ZGRm6/fbb1bJlS910000R550+fbr27Nmjp556SsePH9fFF18cNTEuBe7JExMTNXv2bN13331KSkrSL37xCz355JPVzgMAaFgMflYBAgDUsoKCAqWmpuqyD38jS5I1Zsf1FLm1+oqXlJ+fL4fDEbPjAgAQ74jdAAA0HMG4PfTD38icFOPFN4tc+qSRxG56jAMAAAAAAAAA4gqJcQAAAAAAAABAXCExDgAAAAAAAACIK9VKjM+aNUvnnXeeUlJSlJaWpjFjxmjHjh2n3O/tt99W165dZbfb1bNnT3344YenPWEAAFB1xG4AABoWYjcAALWjWonxzz77TJMmTdIXX3yh1atXy+PxaNiwYSoqKqp0n3Xr1mns2LG6+eab9dVXX2nMmDEaM2aMtm/ffsaTBwA0bMUei4o81pi9ij2Wur6keofYDQCIJWJ3zSN2AwBQOwx+v99/ujsfOnRIaWlp+uyzz/STn/wk6phrrrlGRUVF+tvf/hbadv7556tPnz5auHDh6Z4aANCABVfIvuCvk2O6QnZJkUv/HP1Co1gdu6YQuwEAp4PYXXeI3QCA6grG7aEf/iamcVsKxO5PrnipUcTuM+oxnp+fL0lq1qxZpWPWr1+voUOHRmwbPny41q9ffyanBgAAp4HYDQBAw0LsBgCgZphPd0efz6cpU6boggsuUI8ePSodl5OTo/T09Iht6enpysnJqXQfl8sll8sVca6jR4+qefPmMhgMpztlAEA1+f1+HT9+XK1bt5bRyHrNDR2xGwAaP2J340LsBoDGrabj9nG3TWZLjCvG3TE9XJ067cT4pEmTtH37dn3++eexnI+kwGIjDz/8cMyPCwA4Pfv27dNZZ51V19PAGSJ2A0D8IHY3DsRuAIgPxO26cVqJ8cmTJ+tvf/ub1q5de8r/aBkZGcrNzY3Ylpubq4yMjEr3mTZtmqZOnRp6n5+fr7Zt2+oi02iZDSzOAgC1pcTv0T+8f1VKSkpdTwVniNgNAPGB2N14ELsBoPEjbtetaiXG/X6/7rzzTr3//vvKzs5Whw4dTrlPVlaW1qxZoylTpoS2rV69WllZWZXuY7PZZLNVLPM3GywEaACoAzxO23ARuwEgPhG7Gy5iNwDEH+J23ahWYnzSpElaunSp/vrXwDcZwX5lqampSkhIkCSNGzdObdq00axZsyRJd911ly6++GI988wzGjlypJYtW6ZNmzZp0aJFMb4UAABQHrEbAICGhdgNAEDtqFZX9wULFig/P1+XXHKJWrVqFXq99dZboTF79+7VgQMHQu8HDx6spUuXatGiRerdu7feeecdLV++/KQLhwAAgNggdgMA0LAQuwEAqB3VbqVyKtnZ2RW2XXXVVbrqqquqcyoAABADxG4AABoWYjcAALWjWhXjAAAAAAAAAAA0dCTGAQAAAAAAAAA1Zv78+Wrfvr3sdrsGDRqkDRs2VDrW4/HokUceUadOnWS329W7d2+tXLmywrj9+/frhhtuUPPmzZWQkKCePXtq06ZNVZ5TtVqpAAAQS8Ueq0xua8yO5/Wc+tFjAABw+ojdAACgut566y1NnTpVCxcu1KBBgzRv3jwNHz5cO3bsUFpaWoXxDz74oP70pz/p5ZdfVteuXbVq1Sr94he/0Lp169S3b19J0rFjx3TBBRdoyJAh+uijj9SyZUt9//33atq0aZXnRcU4AAAAAAAAAKBGzJ07VxMnTtSECRPUvXt3LVy4UImJiVq8eHHU8X/84x/1wAMP6IorrlDHjh11++2364orrtAzzzwTGvPkk08qMzNTr732mgYOHKgOHTpo2LBh6tSpU5XnRWIcAAAAAAAAABBzbrdbmzdv1tChQ0PbjEajhg4dqvXr10fdx+VyyW63R2xLSEjQ559/Hnq/YsUKDRgwQFdddZXS0tLUt29fvfzyy9WaG4lxAAAAAAAAAECVFRQURLxcLlfUcYcPH5bX61V6enrE9vT0dOXk5ETdZ/jw4Zo7d66+//57+Xw+rV69Wu+9954OHDgQGrNr1y4tWLBAZ599tlatWqXbb79dv/3tb/X6669X+RroMQ4AAAAAAAAAjcyJGK8NIpWtD5KZmRmxfcaMGZo5c2ZMzvHcc89p4sSJ6tq1qwwGgzp16qQJEyZEtF7x+XwaMGCAnnjiCUlS3759tX37di1cuFDjx4+v0nlIjAMAAAAAAAAAqmzfvn1yOByh9zabLeq4Fi1ayGQyKTc3N2J7bm6uMjIyou7TsmVLLV++XE6nU0eOHFHr1q11//33q2PHjqExrVq1Uvfu3SP269atm959990qXwOtVAAAAAAAAAAAVeZwOCJelSXGrVar+vfvrzVr1oS2+Xw+rVmzRllZWSc9h91uV5s2bVRSUqJ3331Xo0ePDn12wQUXaMeOHRHjv/vuO7Vr167K10DFOAAAAAAAAACgRkydOlXjx4/XgAEDNHDgQM2bN09FRUWaMGGCJGncuHFq06aNZs2aJUn68ssvtX//fvXp00f79+/XzJkz5fP5dO+994aOeffdd2vw4MF64okndPXVV2vDhg1atGiRFi1aVOV5kRgHAAAAAAAAANSIa665RocOHdL06dOVk5OjPn36aOXKlaEFOffu3SujsayxidPp1IMPPqhdu3YpOTlZV1xxhf74xz+qSZMmoTHnnXee3n//fU2bNk2PPPKIOnTooHnz5un666+v8rxIjAMAAAAAAAAAaszkyZM1efLkqJ9lZ2dHvL/44ov1zTffnPKYP/vZz/Szn/3stOdEj3EAAAAAAAAAQFyhYhwAUGecHotMHkvMjuf1+GJ2LAAAUBGxGwAANBZUjAMAAAAAAAAA4gqJcQAAAAAAAABAXCExDgAAAAAAAACIKyTGAQAAAAAAAABxhcU3AQAAAAAAAKCROeEyy2SK3aLZkuR1eWN6vLpExTgAAAAAAAAAIK6QGAcAxK327dvLYDBUeE2aNCnq+CVLllQYa7fba3nWAADErwULFqhXr15yOBxyOBzKysrSRx99VOn4Sy65JGqsHzlyZGjMjTfeWOHzyy+/vDYuBwAA1CFaqQAA4tbGjRvl9ZY9BrZ9+3Zddtlluuqqqyrdx+FwaMeOHaH3BoOhRucIAADKnHXWWZo9e7bOPvts+f1+vf766xo9erS++uornXvuuRXGv/fee3K73aH3R44cUe/evSvE+ssvv1yvvfZa6L3NZqu5iwAAAPUCiXEAQNxq2bJlxPvZs2erU6dOuvjiiyvdx2AwKCMjo6anBgAAohg1alTE+8cff1wLFizQF198ETUx3qxZs4j3y5YtU2JiYoXEuM1mI74DABBnaKUCAIAkt9utP/3pT7rppptOWgVeWFiodu3aKTMzU6NHj9bXX39di7MEAABBXq9Xy5YtU1FRkbKysqq0z6uvvqprr71WSUlJEduzs7OVlpamLl266Pbbb9eRI0dqYsoAAKAeoWIcANDoFBQURLy32WynfCR6+fLlysvL04033ljpmC5dumjx4sXq1auX8vPzNWfOHA0ePFhff/21zjrrrFhMHQCAuFSd2L1t2zZlZWXJ6XQqOTlZ77//vrp3737Kc2zYsEHbt2/Xq6++GrH98ssv1y9/+Ut16NBBP/zwgx544AGNGDFC69evl8lkOv2LAgAA9RqJcQBAnXG5TTKZYxeKvO4SSVJmZmbE9hkzZmjmzJkn3ffVV1/ViBEj1Lp160rHZGVlRVSkDR48WN26ddNLL72kRx999PQnDgBAA1EfYneXLl20detW5efn65133tH48eP12WefnTI5/uqrr6pnz54aOHBgxPZrr7029HPPnj3Vq1cvderUSdnZ2br00ktP46oAAEBDQGIcANDo7Nu3Tw6HI/T+VNXie/bs0SeffKL33nuvWuexWCzq27evdu7ceVrzBAAAAdWJ3VarVZ07d5Yk9e/fXxs3btRzzz2nl156qdJ9ioqKtGzZMj3yyCOnnEvHjh3VokUL7dy5k8Q4AACNGIlxAECj43A4Im6uT+W1115TWlqaRo4cWa3zeL1ebdu2TVdccUV1pwgAAMJUN3aH8/l8crlcJx3z9ttvy+Vy6YYbbjjl8f773//qyJEjatWq1WnNBwAANAwkxgEAcc3n8+m1117T+PHjZS73aPi4cePUpk0bzZo1S5L0yCOP6Pzzz1fnzp2Vl5enp59+Wnv27NEtt9xSF1MHACDuTJs2TSNGjFDbtm11/PhxLV26VNnZ2Vq1apWkirE76NVXX9WYMWPUvHnziO2FhYV6+OGH9atf/UoZGRn64YcfdO+996pz584aPnx4rV0XAACofSTGAQBx7ZNPPtHevXt10003Vfhs7969MhqNoffHjh3TxIkTlZOTo6ZNm6p///5at25dlRb8AgAAZ+7gwYMaN26cDhw4oNTUVPXq1UurVq3SZZddJqli7JakHTt26PPPP9fHH39c4Xgmk0n//ve/9frrrysvL0+tW7fWsGHD9Oijj56yFRsAAGjYSIwDAOLasGHD5Pf7o36WnZ0d8f7ZZ5/Vs88+WwuzAgAA0bz66qsn/bx87JYCi3VWFusTEhJC1eYAACC+kBgHAAAAAAAAgEbG47LIa7LE9Jg+lzemx6tLxlMPAQAAAAAAAACg8ah2Ynzt2rUaNWqUWrduLYPBoOXLl590fHZ2tgwGQ4VXTk7O6c4ZAABUA7EbAICGg7gNAEDtqHZivKioSL1799b8+fOrtd+OHTt04MCB0CstLa26pwYAAKeB2A0AQMNB3AYAoHZUu8f4iBEjNGLEiGqfKC0tTU2aNKn2fgAA4MwQuwEAaDiI2wAA1I5a6zHep08ftWrVSpdddpn++c9/1tZpAQD1mNdtUkkMX163qa4vqVEhdgMAyiN211/EbQAAqqfaFePV1apVKy1cuFADBgyQy+XSK6+8oksuuURffvml+vXrF3Ufl8sll8sVel9QUFDT0wQAAKWI3QAANBynE7clYjcAADWeGO/SpYu6dOkSej948GD98MMPevbZZ/XHP/4x6j6zZs3Sww8/XNNTAwAAURC7AQBoOE4nbkvEbgAAaq2VSriBAwdq586dlX4+bdo05efnh1779u2rxdkBAIDyiN0AADQcp4rbErEbAIAarxiPZuvWrWrVqlWln9tsNtlstlqcEQAAOBliNwAADcep4rZE7AYAoNqJ8cLCwohvnnfv3q2tW7eqWbNmatu2raZNm6b9+/frjTfekCTNmzdPHTp00Lnnniun06lXXnlFf//73/Xxxx/H7ioAAECliN0AADQcxG0AAGpHtRPjmzZt0pAhQ0Lvp06dKkkaP368lixZogMHDmjv3r2hz91ut/7v//5P+/fvV2Jionr16qVPPvkk4hgAAKDmELsBAGg4iNsAANSOaifGL7nkEvn9/ko/X7JkScT7e++9V/fee2+1JwYAAGKD2A0AQMNB3AYAoHbUSY9xAAAAAAAAAEDN8XpM8rtNMT2mzxPb49UlY11PAAAAAAAAAACA2kTFOAAAAAAAQA0yJiXKkJggSfIXn4g6xldUXJtTAoC4R2K8kTAm2Ks13nfCGdrHkJhQaWAuv09l5wv/DACqyldikmL4GJavpPE80gUAQH1E7AZOjyExQZ7OrU46xrL/mLx799fSjAAAJMYbgfAEd7iTJbtNzZsGfrDbAvvabZLTVel4f/GJkybfjQl2kuMAAAAAAFTCazepoK01YpvZVbbQaqK9hewSyXEAqCUkxhu4ypLilW0Lsdsku00+eyAoG53uwDanK2qC/GTHCibgSY4DAAAAABBF6b271yY5W4Z/YAj9VGKzSiI5DgC1hcR4IxBKWpdWf4eUT3AHPy9NiPvtZf/5vXazDM6SwGqsp6geL/9ZeCsWkuMAAAAAAFTktRslSZ4Uv7wtPJEfuowKpGhIjgNAbSEx3oBFtDYpnxQvv6305/CEuNdultcWCMwml0+ym2VyhiXIo3G6Io9bmiQnOQ4AAAAAQHT+xMB9tLf0djohxanmKUWhz4vdVh1VqkiOA0DtqTT/iUaktELc2yRRJU3s8trNcqda5XGY5XaY5bMZ5XEEkuReuzkwpkmifHZrxCt4rAqvUuHtVqq7GCgAAKhZxgQ78RkAgBpgatlcprZtZExKPOm4ktLCNJ810Fe8e5NcjWy9XSNbb9eAtH1q1iZfztYlKjpLKmhrladN01MeEwAaivnz56t9+/ay2+0aNGiQNmzYcNLx8+bNU5cuXZSQkKDMzEzdfffdcjojC3Gre8zyqBivh6pz03qqPuLBCvHw6nCfzRgKyF6bQV6bSSaXX7IZZXb5ZHT5JJlLK8hLQofz2iP/uRicJTIGK8ijtF4JXgfV4wAAVE+sYmjUtUiIywAAxIypbRt52jRVcbpNtvwWsv9wOGqVd7DYLFQxbgu0UhmcuFPNTMX63hZoPP4Pl0Xu4ykK9h43JCZIRcU1fyEAUIPeeustTZ06VQsXLtSgQYM0b948DR8+XDt27FBaWlqF8UuXLtX999+vxYsXa/Dgwfruu+904403ymAwaO7cuad1zGioGK+nDIkJlb6qJEpS3Gczyu0wy+UwyWszyO0wyJ1ikNcmuR0GeW0GlZSOCVaQu1Otgf2jvPx2c4UWLtHmF6xQo0oNAICTC8bLYDw9ndhpTLDL1LypTM2bytCsiQyt06UmjsDLbiMeAwAQI8auHVV0bpqOnZOgvM5GHTvbqqJz02Ts2jFyXGnVt9ceSHb7bT5JUhNLIOHd2WzR2dZD0U+SYKdqHECDN3fuXE2cOFETJkxQ9+7dtXDhQiUmJmrx4sVRx69bt04XXHCBrrvuOrVv317Dhg3T2LFjIyrCq3vMaKgYr8+CSecoi11GHRf23tskMSIhXmIzymsLBGGvTfJaDfKVdkfxWQ0yuiWvVTLZJJNL8tpMkkorySWZXb6IUwSryg12a4Wq8fD5BfuOh/YLuxmnkhwAgDLlq7tDyXFVL2YaEhMCSXBFri0SfNLLkJhA1TgAAGfAmJQo39ltVdA+ScVpRhW1kTwtSnTCFSg0S0ltppSmibLsPCDvoSOSJF9CIB77wm7f8zyJOuJN0s6S6Elxr90kc6JNhhNUjQOofwoKCiLe22w22WwV10B0u93avHmzpk2bFtpmNBo1dOhQrV+/PuqxBw8erD/96U/asGGDBg4cqF27dunDDz/Ur3/969M+ZjQkxhuCaAtrShXbl1RSJe5ymCRFJsS9oaS4QklxSfK5DfIkB342uiWlGGRy++V1mSJOZSv9t28KVo1HaaUiVUzil0+UAwCAKC1Pwr4cNyQmhB7xqyxBXn5B7mit1KzB4zpdLJQNAMBpCrZOOd7OruKWBhW38UutnTqrRZ4k6b+O5vKkWOVyJMjRpK0Sd6fKcCQ/4hgGl1H5BYn6xpquJpbO2mFppWamogrn8tqNKmmaKEuxK5CMJzkOoLpcRskY44YhrsDxMjMzIzbPmDFDM2fOrDD88OHD8nq9Sk9Pj9ienp6ub7/9NuoprrvuOh0+fFgXXnih/H6/SkpKdNttt+mBBx447WNGQ2K8nqnweHO0pHgwCR3+WbmbYI/DHKoSL18h7kkOJMKD70PndkseSSZ35Daf2xCoJnf7Q9tLbEZZXT557eWqxsvPsRxDYgLJcQBAoxbeCiU85kVLRFeaEC/fqiw4PuxY5X9nCD+Gv3Sh7eBTY+bwmG23ScRiAACqzdi1o5ytUlTQ1qqisyRXc5/sbQrVvvlR/aTF95Kktdaz9Z01XcdtdklmmZwpsh/Jl/FEiWz5XtkPmSUZ5ZJNR2xJ2mZtLYfFpVRLZGz22gL33SaqxgHUU/v27ZPD4Qi9j1Ytfrqys7P1xBNP6MUXX9SgQYO0c+dO3XXXXXr00Uf10EMPxew8JMYbgOAiHZJkdLor3CxXJSHutQYS4j5rYAVsn9UvvzXQHsXgLvvmyOg2qCTs58CfgWS5pbDsvdcWWMRTqqRq/GQJ/eDxqVYDADQiEUnu0jhoCKv8NoUly8PHhMfM8Jgf+MxaFvudrtDxTE5XKOle/uksnz2wPojbYQ61UZOMMtqMoZhtaNZExqN5ZfsQjwEAOCljUqJ8dqtcqWa5HZInxS9jC5eapxSpZ+r/NDhxpyTpWGqSfjzSTG7ZZXJJlmMueQ8dkUmSXS1VYktS4Ktuo07YEvWjyhbiTLQGqtSMrtL7ebtBXldZ1TgA1CcOhyMiMV6ZFi1ayGQyKTc3N2J7bm6uMjIyou7z0EMP6de//rVuueUWSVLPnj1VVFSkW2+9Vb///e9P65jRkBhvQPx2s3xRtpc0sVeaEA9Wh5ckhyXDbT4ZLd5Q9VmQz2OSN/jGZZRXgaS50W0IqxqXLIWBxLjLYZKtQHKnWmWVZHBG3swbnWGl52FJcarGAYTE+rEuF2tKo25USIqXPskV+twZ1hrFbpOvSYpKmpRVfAfbnUiBL56NLp9MLp9MzhJ5Qz3CraXHCsRXQ/iX0mHJdb89uIh2YJFtKdBGxe0wy2czymI3y+QskaFJSuBYTpciG6YF5uk9cuxM/1oANEbEbsQpX1GxjE63bPk2uVKt8jgMch63qNhhVZ4nUd+6WkmS9hQ314njdiUeNijpYIlM+w/JKwWS4wl2JSaYJdkkGeW1mnVCiTpRuhhnvjVwR25UsGLcIJPNKKskf6KNdioAGiSr1ar+/ftrzZo1GjNmjCTJ5/NpzZo1mjx5ctR9iouLZSz3+4bJFLhr8fv9p3XMaEiMNxDBhbOCfwYFq8SLW5oiqsODf4YS4iklMlq8sli9Sk2KTEo7PZbQzy536fGTpBJ3aW/yQot8pQlyFRqkZEkylPYlj0yOl5+bVLbYFwAAjVFlSfHwmB2e3A62OQmv6PaGPWhlckkmV2n7k+DTWS6fVJrQ9trNMjitkV9AS6HkuNce/LJcoXVDPMkGWQoNMrkNstqMMrvMpcl3u0zOEpVnyjkWui6qyQEAKLUvRxa7VbZUs9wOozwpJuUXJGqTMvVNXrpSrC79eKSZLPutSvmvX4m780OLb0qSd+9+WSQlqqm8dnvp7wHBRTn9kizyWf2SzR8oTiv9/cBrN8ms0t81SIwDaICmTp2q8ePHa8CAARo4cKDmzZunoqIiTZgwQZI0btw4tWnTRrNmzZIkjRo1SnPnzlXfvn1DrVQeeughjRo1KpQgP9Uxq4LEeAPitVf8z+UtXVzTazXI1awsKe6z+uVN9ko2n6xJbtmsJbJbPEpLKlSyJXAjXegpS2UXBX9OKn3vtkpJgaS5y+pVidsk31GbfNbSOvPkQOV4oBLNJFOUSo9gpRsAAI1VeD/xaEnx8MUvg8ltr82oEy0tcqeULXgdZCpdENtkk7wuUyhBHmxf5rUZA/G19NjlE+TeJonyBp8gC1tfRJJczQJt0kJJcpdJJpdfZlfk7xeWgmA1eaBdC63PAAAI8BUVy3T0uGxNy6rGvbsTdCzFpqO2wNPZchmVclhKzPVI+3IqHCOUHLe3kGSRyRVMgBtKW5aWtjAtrS3z2g1SfqBVWoUnvACggbjmmmt06NAhTZ8+XTk5OerTp49WrlwZWjxz7969ERXiDz74oAwGgx588EHt379fLVu21KhRo/T4449X+ZhVQWK8HirfKzRc+KPWUuCx6OCNdaCHeMWEePOkIiVZ3GqTmC+HpeKNbYGn7FHufE/puRMDifMij1VFFqvylSC31VeaGC9LjhvdkmQIPaJtdkU2ezGFn658H3IAABqwaEnxcMGkeDCpHfzT5TDJnRL4QjsYu41uQ+mC1+UWvi5NkEsKJLFLj1MxQV4SOqcvrFrcW+5xLq81sNB2IDkeSJSb3GXN1awF/she5MFrFZXjAABIkv/IMVmapSjJbpTZZVKJzVD6pbQxVOGdss8n+w+H5a2kutt/5JhsiTZJKTI5zYHktySXo6xKPPAEWeBnr90oiySVW3gbABqSyZMnV9rmJDs7O+K92WzWjBkzNGPGjNM+ZlWQGG+AgjfWJTaj3I6KSXFjskdJyS41TypSemKhUi0n1C7hiFJNxUo1lQXmfG9i4Adb2M+l9/fHSgKl4wUeu77Lbymnx6KSZE+gB3mhSQrrUO4pba0SfvNuKwh1KwcAoNGpLCkeviB2MCkeXANEUmnCuix2lyT75E8pCazrcdwso9sgc6GhQoJcCq8ij54gDxy/9Hyl1eK+8n3OSgVbrpncZYttB9cQ8dmMgWR7kxQZ8wLjDQokxyUS5ACA+OYrKpZp/yElHbUrMTHwpJgvwSyv3SSvPRCHE3Nd8u7df9JjGPflyCbJ5Azci7ubWGRyGuVKNcrs8kuSTE5/qPjMl2CWSaLPOADEEInxBiz4mHQ4g9sonyfyASuHxalUU7H6JfwYsT3Plxj6+UhJ2bPc+d7EUAL9R7VUemKhitxWuaxmuW2mypPjhQZJfplcgaS91eWT126W2VlCtTgAoFGo0E9cilhos7KkeLD6K1pSPPiElyvJrBK3Sa5Ciwxuo8yFRhlLF702lT6hJfkVeNS6LEEuSV6bVabSlituR/iaI/5Kr8VnlUoUSIxbCkuT5bZADA+vGg+iehwAgIDwvuFSIDaakxIDvx+U/q5wqlKxYHLcUtxU/kSbpESZ7CaZS9uUmpy+0j+9Mp4oqbi2CADgjJEYb6CCi2pFrQRzGeVym1VksarQUjYgz5eoKzpsr/I5Hv/6Z5KkVMsJJVndgapxt0k+KWpyPDAXg0yuym/Cy6NvKQCgoTiTpLjXaih9uqtiUjw16YTSkgolBdb8KGpqVX5RgkrcJpUctWnH9P+r8hx/Mvrp0LmCC3BXxm8trUBzGyUFkvBGqyGyarz02kKN3JwuGRITSI4DAFCOr6g4tDDmx+6lVd5vmPU6mVo2l1mS0W6VKSGQpglPhhuKXdIJp/zFJ2I+bwCIZxVXTET9UK5P6ckEH5UOv/ktcZvk9FhU5LGqwGPXj66W1UqKS9Lvz/1bqP94ksUtu8Ujs9UroyXQw9yb7K1ww21yVy0pfrI+6gAA1FcnS4q7U63yOMxyO8yBPuIOQ+k6IGVV4q5mfnmalVRIirdJzFe31FwNaLFPfVvuV982+2W2erV7ctWT4pK09q/3SCqrFvdbfWWvlMB5Dc1csmQUKyWjUNZmTvlTSuSz+kNzDFaNe23G0CKiweutzu8nAADEo+okxYPjvYeOSPtyZDp6XOZjxTIfCyzyaTiSL+3Lkf/IMXkPHZGvqJg2KgAQQ1SMN1DBXqWV8XlMoarx7/JbKvvSOad1nkUDXpckjVz721DVuCS5PSdfD7v8IpwhUVqqUDUOAKjvQj3Fo/QTlyR3qlU+m1EuhylUIV7WzqTytUCCi2MH1wLpaDuoXa40/ePYOfruyodOa65fvXi3JKn9oqdlTA58qW2zBhbntFs8SrK6lWQJVKAdLErWEbdJ3mSjJJNM7kAiP8Ac6l/ukyIe4aZqHACASNVNiEfb9/Kmt8hwIkH+4hOVLtwJAIgdEuP1WSVVWSWli2+W7y8ulT0WLQWqxjde+URMpvLBT/6g8z56IOpnPmuw92lFJmdJpcc0JCbwKBgAoN6LWGizVPlFNt0Os7y2QIV4eEI8+GewdYrR4o1YIDsz8ZiamovU1npYzc2BdiqTu/5dp7+uepkfb71H57zzqM5OOyRJSra4lWo5IYclkMwu8NhV5LHKmexSkQItVcqS4gaZXIHFPE3hue/g7yasGwIAQMiZJMXDrTz2ioZZr4vJsQAAp0ZivB4J9i4NF3xEu7zgIl7e0pvuaHZdFz2Rfbo2jggk2c9559EzOxALcQIAGqLSavFTJcU9yWUJcZ810Oc7vHVKktUdSoq3tx0KLXgtqdptz04lWHX+u39dU+Fc/ypup/TEQDLe5TbLnVKikkCHUxndkjvFIJOr8qpxiae+AACIVVI8/HgkxwHEisFllMEY207aBlfj6cxNYryeidZ7O7y/p89W9o8vfOHN8F7fP956T81MrtR3Vz6k9q8/Wf0doyTEg1Xj3FgD8cngNspgil1QNbgbT4BG/VC+hUp4+xRJcjvMcjsMFRbXDCXErT4Zkz2yWL0R/cQdFmdEovrXZ39Ro9cxp/db+nB3D/WzHpUkbXE3U3tboJK80GNVatIJ5Utyu4zyWQPtVExulS4eGr1q3CDx5BcQh4jdQECsE+LRjk2CHABqFr+FNCDeYAsVmyHURsVXrlq8ppPiofOMv++Uv8SaKuszLrF4FwCgQSifFK9McOFKT3KgbYo32RtonVLaT7x10/xQUrxdwpFQUry5ubDGk+JB4dXoncxH1dF2UE3NRWqTGJibzRqYb2Bx7cC1uFMMgYp4u1l+u/mkfwcAAMSLmkyK18V5ACBekRivR3wnnJVWXnlLq9NKbNH/kxndBpkLa/c/5+7J/yej2yBjJf3Fw4VupKMkxINV8tFayQAAUJ+EV4ubnCURi02HeomXVolbk9xq3rQw1E88fJHNYFK8tmW0+Z9SjYFY3MRYrLbWw2qXcETJFndgMdBkl4zJnkByP9gn3WaQxxHlIUO7LbAIJ/EbAIAaQ3IcAGoOrVQaKJPbL8kgS6FkLL1x/eaxu2t9HpZCyegOLL5ZlQR5BHqNAwDqsVDCN0oLldAYl08mlykiDgarxO0Wj9KSCiMWvQxPijcxFmtwu121eEVlUo3SkbAHuzITj4V+drnNclt98lmN8iQHvnw3uYzy2s1lvcalQAy322RQWaUFbdEAAI0diWoAaDxIjDcwgco0o0o7e0oKVGyXb6lSWyylxW6B5Lhf1gK/zC6fjKdqo0JCHADQgERLikuBtmEmlz+QPHYHkshej0l2i0dJVndEUrypuUiSQknxupRqtKm50ak8c6HyvYk6VpIU+sxmLZHb5pPP6pfXaghVjQd7jfvt5rLkeKlgv3HWDAEAAADQUNBKpZ4JtVNxuiKSxyZniaz5blkKSmQtKJGtwCtrgV/W436Z3H5ZCv0nOWrN+de8u2UpDMwjPClucvlkcpbI4CyRJBmdpWV0wesqd30AANRLp1gTI9hOJfAkV2DRTaPFK0lKKpcUD1aLNzEWq7mx7pLHCa12SwpUjTcxBubU1FykVMsJJVncsls8Mlq8oYW9vVbJawssAO61R+k3XtqD3ZCYEGqtQnsVAABihyp1AKgZVIzXc0anW+G11yZJklkml09Gm1E+m1ElNqPW/eX/6maCUqUJ8VAyXCpLgpMMBwA0Il67WSU2o7xWg7xWyW/1KTk5MtaFJ8XD+4rXVRuVcOFV4w5LkvItCSqyupVv9YbaqUiS12pQic0oY2itk7C2Kk532RcITpcMiQlUjwMAGiUS1ADQuFS7Ynzt2rUaNWqUWrduLYPBoOXLl59yn+zsbPXr1082m02dO3fWkiVLTmOq8cvodIdeprximfOcMjlLAslxl0/WgpI6nZ+1oCR6Urx8dbjTJX/xiagvAKgr+/fv1w033KDmzZsrISFBPXv21KZNm066T0OLa8TumuG1m+VxmAOLUyZLJcl+GZM9khRqo+KwBBLD4X3FmxudSq0Hz+wFF+GMxmYtkUrbqfjCFuH0lX4p7y2tHo9WOV6+ehwAYmnBggXq1auXHA6HHA6HsrKy9NFHH510n7fffltdu3aV3W5Xz5499eGHH0Z87vf7NX36dLVq1UoJCQkaOnSovv/++5q8jJMibgMAUDuqfVtWVFSk3r17a/78+VUav3v3bo0cOVJDhgzR1q1bNWXKFN1yyy1atWpVtScbl6Ikl415x0MJcmu+W9b86q56GVvZK++TNd8dSNjnFcuYd7zShDgA1CfHjh3TBRdcIIvFoo8++kjffPONnnnmGTVt2rTSfRpiXCN2x14wKe5ymOROCSTGfVa/zFZvhbH1MSl+qnYqkkLtVLzWsnYqJaUV49GS4z67NSI5DgA14ayzztLs2bO1efNmbdq0ST/96U81evRoff3111HHr1u3TmPHjtXNN9+sr776SmPGjNGYMWO0ffv20JinnnpKf/jDH7Rw4UJ9+eWXSkpK0vDhw+V01s1TL8RtREO1OgDEXrVbqYwYMUIjRoyo8viFCxeqQ4cOeuaZZyRJ3bp10+eff65nn31Ww4cPr+7p44LvhFOmxIRTth0xOl2S3aaP/jOrlmZWOVNe6SJiYYnwoGiPUfN4NYD64Mknn1RmZqZee+210LYOHTqcdJ+GGNeI3bEVPSku+VMCT3DZLZ5QcjlcMCmearSFEtN1rfwinMF2KnaLRy6rOdROxWcNtFPx2qRgXUXZL5GBtioGZ4l8dmtkKzUAiLFRo0ZFvH/88ce1YMECffHFFzr33HMrjH/uued0+eWX65577pEkPfroo1q9erVeeOEFLVy4UH6/X/PmzdODDz6o0aNHS5LeeOMNpaena/ny5br22mtr/qLKIW7XTySmAaDxqfGapfXr12vo0KER24YPH67169fX9KkbtMpajoReR/MCSei8grqeakBegZRXIP/RPPmLT8h3whl6RUNSHEB9sGLFCg0YMEBXXXWV0tLS1LdvX7388ssn3Sce4lo8XOOpGBPsMiQmSFJZqxBFT4oH2qj4Khwj1XIi1F88tO0k7UvqkyRraXK7tJ2KN9ROJdBSxWsL9BwvXzkOALXJ6/Vq2bJlKioqUlZWVtQxp4ppu3fvVk5OTsSY1NRUDRo0qMHEPeI2AACnp8bvYHJycpSenh6xLT09XQUFBTpx4oQSEhIq7ONyueRylVVLFxTUk+RvLTtl8rgeJZc/OjBfw6zXVdge3luUZDiA2lI+bthsNtlsFROSu3bt0oIFCzR16lQ98MAD2rhxo37729/KarVq/PjxUY99OnGtoYn32B1KipdrCVJ5Utwvv9Uno8Urm7WkLKkcpomxuF60UAmX0Gq3ThzoEGqnUlVem2RiLW0AMVbV2C1J27ZtU1ZWlpxOp5KTk/X++++re/fuUcdWFtNycnJCnwe3VTamvjvd300aU+yOFx+7l0a97wYAnJ56dosWMGvWLKWmpoZemZmZdT2lOmFMsFf6MjVvGnrVB5en3hR1nuGibQMQ34weg4zuGL48BklSZmZmRByZNSt6yymfz6d+/frpiSeeUN++fXXrrbdq4sSJWrhwYW3+NTQKjSV2h1eKl+e1GVViM8prC1RPV0eeL1H5FYvK69SJAydvGxSNyRV8+WUuXQQ8uPg2gPhQ17Fbkrp06aKtW7fqyy+/1O23367x48frm2++qa2/gkajscTueEJSHEB1xTxuh8XuxqDGK8YzMjKUm5sbsS03N1cOh6PSb66nTZumqVOnht4XFBTEVZAOJo8jbszr+SJWhmZNAj+coi+6v/gE/cUB1Lh9+/bJ4XCE3ldWcdaqVasKFWbdunXTu+++W+mxTyeuNTTEbkWNuyaXT2aXT16XKbQgpckt+dwG+dxG+TwmudxmFVkCWfN8T4KOWZJCrVSaGIuV6nPWu3Yq+b5A4j685Ut5JrdkdAcS4pJIigOIuarGbkmyWq3q3LmzJKl///7auHGjnnvuOb300ksVxlYW0zIyMkKfB7e1atUqYkyfPn1O+3pq0+n+btLoYjcAANVU4xXjWVlZWrNmTcS21atXV9oDTgr8EuRwOCJe8Sb0CHcTR+AVfJy79OVrkhJ6De87o66nW2F+9T2RD6BxKx9DKru5vuCCC7Rjx46Ibd99953atWtX6bFPJ641NMTu6EzOktJksF/W435ZCgPJ4sDLILmMKnGb5PRYVOS2qtBjVYHHrnxvovK9iaGq8XyfSzn7W9f15UgKzOWIL/CFfL43MeIzm7Us4W10SyZ3oEqcpDiAmlDV2B2Nz+eLaAkS7lQxrUOHDsrIyIgYU1BQoC+//LLBxPbT/d0kHmJ3LFGtDQCNT7UT44WFhdq6dau2bt0qKbBYydatW7V3715JgW+dx40bFxp/2223adeuXbr33nv17bff6sUXX9Rf/vIX3X333bG5gkYm2iPcPrs19PI2SZS3SaL8pYtclTSxq6RJ3bYnGd53Rtkcm6SUJcbDE/oAUA/dfffd+uKLL/TEE09o586dWrp0qRYtWqRJkyaFxjSGuEbsPg3lnoAylCaArfluWQtKZHL5ZXL7ZXIHq6kNMoRVjTs9FhV5rIGq8ZIk5XsTdaQkWUd89nrRUiXYRiU4lyMlyRUS4y63WXIZA0l/BVqoGE+SFDeQJAdQC6ZNm6a1a9fqxx9/1LZt2zRt2jRlZ2fr+uuvlySNGzdO06ZNC42/6667tHLlSj3zzDP69ttvNXPmTG3atEmTJ0+WJBkMBk2ZMkWPPfaYVqxYoW3btmncuHFq3bq1xowZUxeXSNxGVCTmASD2qt1KZdOmTRoyZEjoffDRq/Hjx2vJkiU6cOBAKGBLgW/gP/jgA91999167rnndNZZZ+mVV17R8OHDYzD9RqxcQtlvN8trL/vP5bXVn/bwJU3soZtjg7NEPnvgEXKj0x24Bqer7E8AqEfOO+88vf/++5o2bZoeeeQRdejQQfPmzQvdXEtqFHGN2F09/uITEV9SG51u+exWGZwl8tvNoZYqKgjG4mCPPaNKZFZw6c0ii1WFlkDVuCSlmoqV5wsmn53KqI2LqUS+LxCTj/jsgUr20qR4gceuQk9ZA3WD21haLR54b3IFMumVVYobne5AvCfmA6ghBw8e1Lhx43TgwAGlpqaqV69eWrVqlS677DJJ0t69e2U0lt0rDR48WEuXLtWDDz6oBx54QGeffbaWL1+uHj16hMbce++9Kioq0q233qq8vDxdeOGFWrlypez2uilAIm4DAFA7DH6/31/XkziVgoICpaamaoj5SpkNlrqeTo2JqBYPS4z77NZQYtxrM8oXlhQvCft53V/+r1bnG/ST0U9XqB4LVo0ZnaV30sEbZKdL/uITkkSfcaABKPF79GnJO8rPz4/p47XB/19v//jjMsbwptPndOrH3/8+5vNF9TXk2B2Kx8EvqMPisVT2ZbXHYZbLYZI7xSBPsuRJlkqS/fIme2VM9igp2aXmSUVKTyxUquWE2iUcUVvrYTU3F6qT+agkqUvm/+rkGnP2t1a+L5AY/8Gdpr3uFjpWkqR9xU1V6LHqYFGyjhxLlv+oTQk5RtmOSgmHfUo45K40KW5wlkQkxv3FJ4j1QB0gduN0NeTYXZs+di+tk/NSMQ40Tg0tbkuNK3bX+OKbqJ7yVWrRlNiM8toiV4D11lG3kgG3zJVammQtMAaq5xSoIvPbzaHq8fKV4wYplBwHAKDeCn/iyW4LVY5LgVjntRllchkV2BKMywZJJvncRhVJsls8KixdjLP8Qpx1Zce+QH/zyqrFizxWOT0W+TwmmYJtVEr7i9NTHACA2kdSHABqBonxBsxrk7xWw6kH1iBnM0Po8WqvyxT402aUNd8dkRyXShva82g1AKABCH1RHS05rkDVuDXfLZPLJ4/DLMmkYHLc5DbI1UzyegILcR4sSpaSCgMLcZoDSeg8X2KdJceDi23m+RK1y5WmfG9ioA+6J/DFfJHbGugvrkDvdKO70kMBAAAAQINVfxpVo6IqJpF91sDj2z3ufbaGJ1RR8NFxT7JB7hRD4JFyh1nuVKu8pQuE+sN6o7MQJwCgvgu2/wg93RTWDqw8k7NEloIS2Qq8sh73y37UL0uhZC40yHDcrKJCW6ULcUrSh7t7VDhmbcjzJYYW3DxWklShWrzEbZJcZb8mBhfeNDhLoi6yGdFGBQCARozqbQBoPKgYbyR81lOPibUOLzwjY7JBvtLHrAMVZQaZbJJkrtBaxaewnuMAANRjvhNOGRPsFSvHozA5S2RylsjossrtMMtrDTxNZXQb5PWY5HKbT7EQZ+354/fnq7k5kBQP9hUv8Ni1vzhVRR5rRLW4pIiFN8MFFyKNiv7iAADEDIl4AKg5VIw3Il6rdPbs2qkab//6k/JbfRHnlgIJeq/VIK/NoBKbUR5HYIGyCFSNAwAagAqV46dgzXfLWlAi6/GyqnG5jCpxm0JV4/uLUwMtVUqrxo+UJOuFb39ak5cR8vjXP5Mk7XKlVZoUzy9KUInbJJ/HJIM78tdEk8sno9MdegWrx6NVkAMA0JjVVrKapDgA1CwqxuurKJVpXptRPlvF7zK8YdXiPqtfHV54Rn6rTz/eek+NTO2cdx6VdGYl6obEBIlKMiDuGd0GGY0xXCvBXbfrLqDxCVaOV5XJ5ZPJ5ZfRHagaNxWa5LX5QlXjkgItVSxJOlaSFNrvd/+6Rv/JT9cHP/lDzK9h5Nrfqk1ivhxh5yzw2JXvSVChx6qDRclyeixyuc1lSfHj5tA1GN2SyeUvO2BYv3VJobVEAMQHYjcQEExaf+xeWmPHBgDULBLjDUSFqutSPmv0n2XzqePSJ7TrugdiNofzPnpATo9F0f7ZRHvMGgCAeGR2+WQ9bpAn2RBop+IyqsRiUr4Ci1sWWqz6T3561H3P++gBbRzxRMzmct5HDygtSdpfnKr9So34rMhj1ZGipIiEuFxGmQpNoUU3oy68Wa6PuDF8e2kbFQAA4sUw63UxTY6TFAcQS0aXQUZDjL+EdjWeL7VJjDcQJmeJvLbIiiyv1RD2c9n28BYnPVfMkN3iOeOb7Fs3jVdaUqr25jU99VzdZVVlxtI+46FFucIYE+z0HwUA1Hu+E04ZJQWjrlGST6q8x3Ypk1uyFEo+a6BqvERSvhJKv2Su3DnvPCpPTqJ2T/6/M5r3Oe88KpvVUmnsPllCPPiFt8kdiOtml08mZ0nFhUjttqgLbhLfAQDxJFbJ8cub3iJTy+aSJO+hI2d8PADAyZEYbwR85VqphH72mCRJaUmFumb9bXora2G1j/3H78+XJDks7fSdp+Vpzc8U3nu0tJoMAICG5HSS48Fqa6PbIN9xs3xWo9yyyG3zVb6PxRtoZSKp+4PP6pvH7q72XM+e/aw8zUpkTDapxG0quwaPqeJgl1EGt1HmQmMoIR6eGLcU+mUt8Ie+6JYie643nloRAADOzJm0VhlmvS6QEM/MkKdpoownSmRsnirDkfzAgtZFxbGeLgBALL7ZoJhcvtCNqbe0/Xj5/uIhrrL/tEUeq1ItJ0KLblVVzv7WGmjfKynQi1Qqqy6TVGFRLinykWtz2E200emOSIr7i09QTQYAaFB8J5yBpHBpPAtfgDLIVG4hymA7EnOhUZaj5sDrgFWmI5YKL8Nxs3yFgT/NhYEY2/eO6i2q3ePewHhToUn+ozb5PIGK8OBxDcfNkectNMl61ChLoSJeRndZUtxaUCJrvlumvGLJ6ZLvhDNiYdLgCwAAVL8VyuVNb5GpbRt527SUq1WKitNtKmyfJFerFHk6t5IyM2Rq20bGpMQamjEAxC8qxhuwyvqLmwoDiWuvAolsJQUW+lKC9MK3P1WqKfBtc3NzoZoYS382Bm5wU41SqtFW+rNN+T6X8r2BAFzktkY8ci0p9Mh1ecFFukyuilVxJMUBAA1VtMpxKbJ63OjyyeQyymSTVBhYwNJbbn1KnzWy1tprlUqSJblNMhcaQglqk9uvn4x+WiVhi297bWGt1GzhxzDIZA3s57Ua5LMaVFL6q56xdHG78LhtClW0h1eKB+N3IJabXb7AgqJ5xVJegbxHjkX8XYQzVrIdAIB4YmrZXCM63yPv3v2nHtu2jZSZIa/dKk9Tm1ypZrlSjfLaJFeqVbZ8n8xNLLLmeWROtMlU7JL/yDEqyAEgRkiM1yO+E04ZE+yRG52u0OPagXS3WWaXT16XSZ7kwJDgzXbgZrfsZtnnNqrEbVKR2yolSsdKknSsJElNzUWSpHxvYihJnmculCQ1MRaHkuRHfHbl+ZoFxnoSyuZU+th1eB/S8Meug8L7iwevhYoyAEBDVz45LkW2VrHmBwKi2WWUy2GS1yaV7yoevk6IzyopWVJhYFswKW497petwCujyydraUz12YwyuxRKlJtcZYlyk8tfmig3yGgNfmlellAPj9Xh8VsKJMSDyfDA3H2lCX6fzHnOKsVwEuIAgHhnatlcRQPaSpKSpJMmx00tmyu/X4a89kAcL7EZ5LVJbofks0lGl+R2GGUtMMqVapKtiUX2AycCeQES4wAQEyTG6yF/8QkZEhMCj2qXLmoVnhz3OILVXwolx6NVbQc5PRblFier0GNVssWtfWqqVMsJSc3lsDjV1Fykve4WoSR5qqlY+d5E5XsTtedEc+V7ElToCWTffR5TWFI8WH0WXGCsrMosyBSWFA/ixhkA0NAFk+MKxmyVJcclyeYsUUkTu4wun3y2iq3Hgoltt8MgKVAhbiz9ort8UtxUuvCl124OPYllDDtm+PFLbEaZXJI7xRDxNJmkiErx8tXhkmQr8AbGhZ3T4CyRMe+4/EfziN8AAJxEMCl+rLM58GWzs4XsJ5xRF9E0JiWqaEBb5XU2ypMS2Oazha0XVtom1Xw8UD2ecMig4ENi/rCntwAAZ4bEeH0XTI6HCVRiB+rHoyXEje5AlZjRbZDXY5LLbdYRJanIYlWRNbBDrpKVZHFrv1KVbAlsCyTLA/I9CcotTlaR2yqnxxLRWzyYFA/0Hy171Ds8IR589Foq7S8uWqgAABqXaE96BWOenC5ZnW55myTKW26BzmCS2+MwSwVGuR1SsP7cUhiIp7YCrywFJaHktCSZS//0280ylYbT8GS5FKhM9zjMMrmMcjsC8To8QR5MiIdXh4cLP2f4tRC/AQConKllczl7nKVjnc0q7OArLSKzqqnOkm1D5OKZxqREuQaerWOdzSru6lZCSiDGJtg8oTEnXBadOJwon9sg02GDzC6/rHkemY4el5dqcQCIGRLj9UzwJtsfVoEmKVQ1Hry5Nrn8MtkkX1jrlPBWJqHEuMsotwK9wV1Ws/KLAse0WUt0REmyWzw6KCnJ6lauAuXnRW6r8osSIvqJmwpNMrkNMiny8etgUtxaEHlzHa2NCgAAjU20tiqSQgt0mpwumcp9we2zW0u/3pYUlhw3uRVa7DKiYjssQS0p4gtzg70s6210uuWzWyXZSyvKzfLaIvuQh/cON4a1Z5FKK8XDz5lXIEkRfcUBAEAkY1KinD3O0uEeVhV28Klpx2PKL0hUkStBJpdVTZ0dZf73rlByvKRXRx0726rjXUvUrf3/1DP1f5KkppYiHfMkaVt+a/3oaiaDyyjLcYOsBZIt3yvjiRKqxQE0aPPnz9fTTz+tnJwc9e7dW88//7wGDhxY6fi8vDz9/ve/13vvvaejR4+qXbt2mjdvnq644ooKY2fPnq1p06bprrvu0rx586o8JxLjDUFYSxWD0yqTvazPuOSX0VrhdlzGYOL6qFk+q1/eZKPcttBtuNxFgRvpIkvgsel8q7dse2kPcXOhUZZyPUiDgtusx/0yuQI38eUfFS/fRoVqMwBAoxb2JXCoH3fpn4bEhEAsL01qG5wlFZLjkkJJcXOeM5CcDh4z/AvmsAS5sTQBH2S020KV6iaXT16bUT6bMdS6Jbx3eFBwnMnlK0uKl/YUJ3YDAFC5YPV3MCnepmuuBrfcrT1Nm2uT2qpACTK77Eo90Vba+q3Up6sO90xQflefzupwSBPbrNX59lwd8Rm1rriTdhe31HG3TSeO22U5bpSlQFSLA2gU3nrrLU2dOlULFy7UoEGDNG/ePA0fPlw7duxQWlpahfFut1uXXXaZ0tLS9M4776hNmzbas2ePmjRpUmHsxo0b9dJLL6lXr17VnheJ8XooatV4aXLc6HTL5Cz7z1ZiM0ZUgkmByjCf2yAVBirHvVaDjO5AgjzYqyzIL7P8Vp/csshUaJIlrEVK9IR42f7BR71DvUhLb6wDn1VsowIA5RnckrFi++XT5j/JegtAbQjGu/IJ5fCqcqMCVePhyfFgz3BrvjsiOR1t0ctTJauNCXaZnE1kstvks1vlt5vltZtDye/w9iz+4JNopYcMPy8AREPsBgJCLVHOLkuKj2y9XT9L+bfW2TupwGPTf9ytdfy4VSZnklKPtlFRqwS5HZLfUaI2SQVqbipSU6NNR3weHfUmKd+ToCPHk2QoMJc+SRaoFjcfK6ZaHECDNnfuXE2cOFETJkyQJC1cuFAffPCBFi9erPvvv7/C+MWLF+vo0aNat26dLBaLJKl9+/YVxhUWFur666/Xyy+/rMcee6za8yIxXs9VSI47XYGb6CaJgW0Os8xh967BRbckyWgN9BU1WssS5MHb8sgFuUofoQ4tollxUa7yfUjNpYnvYC/SsE9CP9FGBQAQD0ILcaqKT0cFF9UOS44HE9PRkuLVrdr2nXBK+3NkTLDLWFqpHkySS2F90CUp1H4lcn5UiwMAcHKGxAR57caIRHcX2wF1Nlt01HZADku30FhbfqANiv1AihLSUuRJserfKa30QWJvHUneKUnaXdxS+4scOnHcLpPbIEuBZMv3yZrnkaHYRbU4gAbL7XZr8+bNmjZtWmib0WjU0KFDtX79+qj7rFixQllZWZo0aZL++te/qmXLlrruuut03333yWQq64gxadIkjRw5UkOHDiUx3piEL+hVod94XkFkcryU12aU1eWTz2aU+VCwmtwQ6C9amiT3lrv3DZ3PGtk7vPzCXNEevZYkc17kTbNJ5ZAUBwDEgVMlkSN6kZe2RwtPjvvt5rIvlGM5p9J5GRPsMjZrEvigXK9yY/hC3yTFAQCoEu+hI0r62q4SW4Z8Nqu+VIfAB2lfaoerlf6d00qW/VY12emT/YfDgcT21m/VNKGHvLYE5ack6xNbF+1p2lySVOCxharFg73FzS4f1eIA6q2CgoKI9zabTTabrcK4w4cPy+v1Kj09PWJ7enq6vv3226jH3rVrl/7+97/r+uuv14cffqidO3fqjjvukMfj0YwZMyRJy5Yt05YtW7Rx48bTvgYS4/VY+eR4OIMCSejwRbdMpY9KByUUlET0Fg0mycvzlutRHuwbbi6XBA+dp/xiYOFzDvs52ucAAMSrypLjUln8rKnYGawiDzIm2KUoLdvkdJEUBwCgirx798tx5Jhs+WfrcIFVX7o6qaCLTcfdNjn3J6vZLin5xyJ59+4P7WPZeUCOJm3ltZl11JaqTQWJsto8kqQThxNDvcVD1eJH8qkWB3DajG7JFMMWaJKk0luWzMzMiM0zZszQzJkzY3IKn8+ntLQ0LVq0SCaTSf3799f+/fv19NNPa8aMGdq3b5/uuusurV69Wna7/bTPQ2K8gfIXn5BBgUW2JEl2m3wKVmwH+4WWhB7NDvYWLb9AZmAxrkBVuNcWSJAHk+LGconx8L6kEQuChanwvzUqxgEAiBCM4cFEdHANkdoUSn6HfQkv1gMBAKDafEXFsnz6L6U7e8jkStC3rrby23xK2W2UY687sOhmmPBKc4/DLK/VLLfNLp/VH2ihclxKPOSXLb9E5mPF8h46UkdXBgAnt2/fPjkcjtD7aNXiktSiRQuZTCbl5uZGbM/NzVVGRkbUfVq1aiWLxRLRNqVbt27KyckJtWY5ePCg+vXrF/rc6/Vq7dq1euGFF+RyuSL2rQyJ8XouvGo8+D7IKEVUexmlsOR4WY9vo9MtkxRagCvIazfLEvy5XMI8mAQPjpMUPSkenvgO3uADAICoIhbYDv8grJVJXcwJAACcGeP67co41lG2gmYqbmlWyr7SFipRxnr37ldysxR57ckqsRlKn+4O/GYQXHDTcswl7cuJsjcA1A8OhyMiMV4Zq9Wq/v37a82aNRozZoykQEX4mjVrNHny5Kj7XHDBBVq6dKl8Pp+Mpat+f/fdd2rVqpWsVqsuvfRSbdu2LWKfCRMmqGvXrhX6kJ8MifEGoLIb1uD20GPZpT+HL6QVnsQ25hWU3XjbbaEEus9uDf1DCE+cBxPr5sp6npa/eS//3h75TZExwc7NNwAg7kXE78SEU8dTAADQIPi+3aVmxS4ldmohyzFXRAuVCrZ+q5SEHpIkr90kr91Y+kS3ZM3zyLT/EC1UADQaU6dO1fjx4zVgwAANHDhQ8+bNU1FRkSZMmCBJGjdunNq0aaNZs2ZJkm6//Xa98MILuuuuu3TnnXfq+++/1xNPPKHf/va3kqSUlBT16NEj4hxJSUlq3rx5he0nQ2K8EYjoWRp8JDv4odMVusH2F5+Q78ixiAp0Q2JC2Vh7lEceom0rd8zyIvqVho0hKQ4AQJlg/JYi+45L0eMrAACo/7x798t25Jh8VUhqm/+9S4bEhMCT3Al2+RMD99+GYhctVAA0Ktdcc40OHTqk6dOnKycnR3369NHKlStDC3Lu3bs3VBkuBfqXr1q1Snfffbd69eqlNm3a6K677tJ9990X03mRGG8kfCecoT6hEY9mhyfFSxPTFdqxlDqTR7rLLxQaTI6TFAcAoHLRWqsQOwEAaNiqkhQPjaMqHECcmDx5cqWtU7Kzsytsy8rK0hdffFHl40c7xqmQGG9kIqrHS4UnxaONlxS6KZcqeaxbqtBDvPyNe7RjhW8HAAAVhSfHw7cBAAAAAGoOifFGKPzR7OD7Ku0T1mIlqpMkxat9LAAAEBL+5TJJcQAAAACoeSTGG6nTuamOeJw72Cc8iqr0PeWmHgCA6iN+AgAAAEDtIDGOqEh+A6gNJo9kMp56XJV5YngsAABQAbEbAAA0FrH8lQaNQFXbrpAUBwAAAAAAANBQUTGOCsr3CCcJDgAAAAAAAKAxITGOqEiGAwAAAAAAAGisSIwDAAAAAAAAQCNjdEtGQ2yP6XfH9nh16bR6jM+fP1/t27eX3W7XoEGDtGHDhkrHLlmyRAaDIeJlt9srHQ8AAGKP2A0AQMNC7AYAoGZVOzH+1ltvaerUqZoxY4a2bNmi3r17a/jw4Tp48GCl+zgcDh04cCD02rNnzxlNGgAAVB2xGwCAhoXYDQBAzat2Ynzu3LmaOHGiJkyYoO7du2vhwoVKTEzU4sWLK93HYDAoIyMj9EpPTz+jSQMAgKojdgMA0LAQuwEAqHnVSoy73W5t3rxZQ4cOLTuA0aihQ4dq/fr1le5XWFiodu3aKTMzU6NHj9bXX3990vO4XC4VFBREvAAAQPURuwEAaFiI3QAA1I5qJcYPHz4sr9db4Zvn9PR05eTkRN2nS5cuWrx4sf7617/qT3/6k3w+nwYPHqz//ve/lZ5n1qxZSk1NDb0yMzOrM00AAFCK2A0AQMNC7AYAoHac1uKb1ZGVlaVx48apT58+uvjii/Xee++pZcuWeumllyrdZ9q0acrPzw+99u3bV9PTBAAApYjdAAA0LMRuAACqz1ydwS1atJDJZFJubm7E9tzcXGVkZFTpGBaLRX379tXOnTsrHWOz2WSz2aozNQBAA2R0S0ZD7I7nd8fuWI0FsRsAEEvE7ppH7AYAoHZUq2LcarWqf//+WrNmTWibz+fTmjVrlJWVVaVjeL1ebdu2Ta1atareTAEAQLURuwEAaFiI3QAA1I5qVYxL0tSpUzV+/HgNGDBAAwcO1Lx581RUVKQJEyZIksaNG6c2bdpo1qxZkqRHHnlE559/vjp37qy8vDw9/fTT2rNnj2655ZbYXgkAAIiK2A0AQMNC7AYAoOZVOzF+zTXX6NChQ5o+fbpycnLUp08frVy5MrQwyN69e2U0lhWiHzt2TBMnTlROTo6aNm2q/v37a926derevXvsrgIAAFSK2A0AQMNC7AYAoOYZ/H6/v64ncSoFBQVKTU3VEPOVMhssdT0dAIgbJX6PPi15R/n5+XI4HDE7bvD/17v+9gmZbPaYHdfrcurbPzwQ8/mi+ojdAFA3iN04XcRuAKh9NR23z5ka27gtBWL3d3MbR+yudsU4AAAAAAAAAKB+M7kkU6wP6or1AetOtRbfBAAAAAAAAACgoSMxDgBAqdmzZ8tgMGjKlCmVjlmyZIkMBkPEy26P7aNpAAAgulmzZum8885TSkqK0tLSNGbMGO3YseOk+7z88su66KKL1LRpUzVt2lRDhw7Vhg0bIsbceOONFeL75ZdfXpOXAgAA6hiJcQAAJG3cuFEvvfSSevXqdcqxDodDBw4cCL327NlTCzMEAACfffaZJk2apC+++EKrV6+Wx+PRsGHDVFRUVOk+2dnZGjt2rD799FOtX79emZmZGjZsmPbv3x8x7vLLL4+I72+++WZNXw4AAKhD9BgHAMS9wsJCXX/99Xr55Zf12GOPnXK8wWBQRkZGLcwMAACEW7lyZcT7JUuWKC0tTZs3b9ZPfvKTqPv8+c9/jnj/yiuv6N1339WaNWs0bty40HabzUZ8BwAgjlAxDgCIe5MmTdLIkSM1dOjQKo0vLCxUu3btlJmZqdGjR+vrr7+u4RkCAIBo8vPzJUnNmjWr8j7FxcXyeDwV9snOzlZaWpq6dOmi22+/XUeOHInpXAEAQP1CxTgAoNEpKCiIeG+z2WSz2aKOXbZsmbZs2aKNGzdW6dhdunTR4sWL1atXL+Xn52vOnDkaPHiwvv76a5111llnPHcAAOJRdWJ3kM/n05QpU3TBBReoR48eVT7Xfffdp9atW0d8IX755Zfrl7/8pTp06KAffvhBDzzwgEaMGKH169fLZDJV72IAAECDQGIcAFBnTG7JZIjhAd2BPzIzMyM2z5gxQzNnzqwwfN++fbrrrru0evXqKi+gmZWVpaysrND7wYMHq1u3bnrppZf06KOPnvbUAQBoCOo6doebNGmStm/frs8//7zKp5s9e7aWLVum7OzsiNh/7bXXhn7u2bOnevXqpU6dOik7O1uXXnpplY8PAAAaDhLjAIBGZ9++fXI4HKH3lVWcbd68WQcPHlS/fv1C27xer9auXasXXnhBLpfrlFViFotFffv21c6dO2MzeQAA4lBVY3fQ5MmT9be//U1r166t8hNbc+bM0ezZs/XJJ5+ccrHtjh07qkWLFtq5cyeJcQAAGikS4wCARsfhcETcXFfm0ksv1bZt2yK2TZgwQV27dtV9991XpUenvV6vtm3bpiuuuOK05wsAQLyrauz2+/2688479f777ys7O1sdOnSo0vGfeuopPf7441q1apUGDBhwyvH//e9/deTIEbVq1apKxwcAAA0PiXEAQNxKSUmp0JM0KSlJzZs3D20fN26c2rRpo1mzZkmSHnnkEZ1//vnq3Lmz8vLy9PTTT2vPnj265ZZban3+AADEm0mTJmnp0qX661//qpSUFOXk5EiSUlNTlZCQIKli7H7yySc1ffp0LV26VO3btw/tk5ycrOTkZBUWFurhhx/Wr371K2VkZOiHH37Qvffeq86dO2v48OF1c6EAAKDGGet6AgAA1Gd79+7VgQMHQu+PHTumiRMnqlu3brriiitUUFCgdevWqXv37nU4SwAA4sOCBQuUn5+vSy65RK1atQq93nrrrdCY8rF7wYIFcrvduvLKKyP2mTNnjiTJZDLp3//+t37+85/rnHPO0c0336z+/fvrH//4xylbugAAgIaLinEAAMJkZ2ef9P2zzz6rZ599tvYmBAAAQvx+/ynHlI/dP/7440nHJyQkaNWqVWcwKwAA0BCRGAcAAAAAAACARsbklk69clY1uWN9wLpDKxUAAAAAAAAAQFwhMQ4AAAAAAAAAiCskxgEAAAAAAAAAcYXEOAAAAAAAAAAgrrD4JgCgzhg9ktEQu+P5PbE7FgAAqIjYDQAAGgsqxgEAAAAAAAAAcYXEOAAAAAAAAAAgrpAYBwAAAAAAAADUmPnz56t9+/ay2+0aNGiQNmzYUKX9li1bJoPBoDFjxkRsLyws1OTJk3XWWWcpISFB3bt318KFC6s1JxLjAAAAAAAAAIAa8dZbb2nq1KmaMWOGtmzZot69e2v48OE6ePDgSff78ccf9bvf/U4XXXRRhc+mTp2qlStX6k9/+pP+85//aMqUKZo8ebJWrFhR5XmRGAcAAAAAAAAA1Ii5c+dq4sSJmjBhQqiyOzExUYsXL650H6/Xq+uvv14PP/ywOnbsWOHzdevWafz48brkkkvUvn173Xrrrerdu3eVK9ElEuMAAAAAAAAAgBrgdru1efNmDR06NLTNaDRq6NChWr9+faX7PfLII0pLS9PNN98c9fPBgwdrxYoV2r9/v/x+vz799FN99913GjZsWJXnZq76ZQAAAAAAAAAA4l1BQUHEe5vNJpvNVmHc4cOH5fV6lZ6eHrE9PT1d3377bdRjf/7553r11Ve1devWSs///PPP69Zbb9VZZ50ls9kso9Gol19+WT/5yU+qfA0kxgEAAAAAAACgkTG5JJM/xgd1B/7IzMyM2DxjxgzNnDnzjA9//Phx/frXv9bLL7+sFi1aVDru+eef1xdffKEVK1aoXbt2Wrt2rSZNmqTWrVtHVKefDIlxAAAAAAAAAECV7du3Tw6HI/Q+WrW4JLVo0UImk0m5ubkR23Nzc5WRkVFh/A8//KAff/xRo0aNCm3z+XySJLPZrB07dqh169Z64IEH9P7772vkyJGSpF69emnr1q2aM2dOlRPj9BgHAAAAAAAAAFSZw+GIeFWWGLdarerfv7/WrFkT2ubz+bRmzRplZWVVGN+1a1dt27ZNW7duDb1+/vOfa8iQIdq6dasyMzPl8Xjk8XhkNEamtk0mUyiJXhVUjAMA6ozJ7ZdJMXyuyx3rZ8QAAEA4YjcAAKiuqVOnavz48RowYIAGDhyoefPmqaioSBMmTJAkjRs3Tm3atNGsWbNkt9vVo0ePiP2bNGkiSaHtVqtVF198se655x4lJCSoXbt2+uyzz/TGG29o7ty5VZ4XiXEAAAAAAAAAQI245pprdOjQIU2fPl05OTnq06ePVq5cGVqQc+/evRWqv09l2bJlmjZtmq6//nodPXpU7dq10+OPP67bbrutyscgMQ4AAAAAAAAAqDGTJ0/W5MmTo36WnZ190n2XLFlSYVtGRoZee+21M5oTPcYBAAAAAAAAAHHltBLj8+fPV/v27WW32zVo0CBt2LDhpOPffvttde3aVXa7XT179tSHH354WpMFAACnh9gNAEDDQuwGAKBmVTsx/tZbb2nq1KmaMWOGtmzZot69e2v48OE6ePBg1PHr1q3T2LFjdfPNN+urr77SmDFjNGbMGG3fvv2MJw8AAE6N2A0AQMNC7AYAoOZVOzE+d+5cTZw4URMmTFD37t21cOFCJSYmavHixVHHP/fcc7r88st1zz33qFu3bnr00UfVr18/vfDCC2c8eQAAcGrEbgAAGhZiNwAANa9ai2+63W5t3rxZ06ZNC20zGo0aOnSo1q9fH3Wf9evXa+rUqRHbhg8fruXLl1d6HpfLJZfLFXqfn58vSSrxe6ozXQDAGQr+/67f76/jmeB0EbsBIL4Quxs+YjcAxA/idt2qVmL88OHD8nq9Sk9Pj9ienp6ub7/9Nuo+OTk5Ucfn5ORUep5Zs2bp4YcfrrD9H96/Vme6AIAYOXLkiFJTU+t6GjgNxG4AiE/E7oaL2A0A8Ye4XTeqlRivLdOmTYv4tjsvL0/t2rXT3r17G8Q/koKCAmVmZmrfvn1yOBx1PZ1TYr41i/nWLOZbs/Lz89W2bVs1a9asrqeCeo7YXbuYb81ivjWL+dYsYjeqithdu5hvzWK+NashzbchzVWq+bhtdvllinE1usHdeKrbq5UYb9GihUwmk3JzcyO25+bmKiMjI+o+GRkZ1RovSTabTTabrcL21NTUBvGPOsjhcDDfGsR8axbzrVkNbb5GY7WXpEA9Qeyunob2v03mW7OYb81ivjWL2N1wEburp6H9b5P51izmW7Ma0nwb0lwl4nZdqdbfutVqVf/+/bVmzZrQNp/PpzVr1igrKyvqPllZWRHjJWn16tWVjgcAALFD7AYAoGEhdgMAUDuq3Upl6tSpGj9+vAYMGKCBAwdq3rx5Kioq0oQJEyRJ48aNU5s2bTRr1ixJ0l133aWLL75YzzzzjEaOHKlly5Zp06ZNWrRoUWyvBADQ4JhckimWT2G5Y3isRoTYDQCIFWJ37SB2AwBQ86qdGL/mmmt06NAhTZ8+XTk5OerTp49WrlwZWuhj7969EeX/gwcP1tKlS/Xggw/qgQce0Nlnn63ly5erR48eVT6nzWbTjBkzoj7mVR8x35rFfGsW861ZzBd1gdh9asy3ZjHfmsV8axbzRV0gdp8a861ZzLdmMd+a05DmKjW8+TY2Br8/xh3YAQA4hYKCAqWmpqr/1Y/LZLXH7Lhet1Ob//J75efnN6h+cgAA1HfEbgAAGo5Q3L4mtnFbKo3dbzWO2E1ndwAAAAAAAABAXCExDgAAAAAAAACIKyTGAQAAAAAAAABxhcQ4AAAAAAAAACCu1JvE+Pz589W+fXvZ7XYNGjRIGzZsOOn4t99+W127dpXdblfPnj314Ycf1tJMA6oz3yVLlshgMES87PbYNr6vzNq1azVq1Ci1bt1aBoNBy5cvP+U+2dnZ6tevn2w2mzp37qwlS5bU+DyDqjvf7OzsCn+3BoNBOTk5tTLfWbNm6bzzzlNKSorS0tI0ZswY7dix45T71dW/39OZb13++12wYIF69eolh8Mhh8OhrKwsffTRRyfdpy7/v6G6863Lv9vyZs+eLYPBoClTppx0XF3/fy/qF2J3zSB21yxid80idtceYjdOB7G7ZhC7axaxu2YRu2sPsbv+qReJ8bfeektTp07VjBkztGXLFvXu3VvDhw/XwYMHo45ft26dxo4dq5tvvllfffWVxowZozFjxmj79u31cr6S5HA4dODAgdBrz549tTLXoqIi9e7dW/Pnz6/S+N27d2vkyJEaMmSItm7dqilTpuiWW27RqlWranimAdWdb9COHTsi/n7T0tJqaIaRPvvsM02aNElffPGFVq9eLY/Ho2HDhqmoqKjSfery3+/pzFequ3+//7+9+4+Kssz/P/5ixgB/BKYeARGD0qVf4iQIQXtWLVx0rY2tLezUgch1z1a02rhr4hb4KTdqS8M9muhRs9zjwa1Nt6OF6bjo12JVIE5qq1uuJ4wEtZOQU4DOzPeP1tkmwABnmGnu5+OcOXVfc8017/s+A6/je27ue+TIkXr22WdVU1Oj6upq3XLLLbrjjjt06NChTuf7+3dDT+uV/Hdsv23//v1auXKlkpKSLjrP38cXgYXs9h2y27fIbt8iu/sG2Y3eILt9h+z2LbLbt8juvkF2B6YQl8vl8ncRaWlpmjBhgpYtWyZJcjqdiouL06OPPqr58+d3mJ+TkyO73a4tW7a4x2666SZZLBaVlZUFXL3r1q3TnDlzdObMGZ/XdjEhISHatGmTsrOzu5zz+OOPa+vWrR4/cDNmzNCZM2dUUVHRB1X+T3fqrays1OTJk/XFF19o8ODBfVZbV06dOqXhw4dr165d+slPftLpHH9/fr+tO/UGyuf3giFDhuj555/XzJkzOzwXSMf2govVGwjH9uzZsxo/frxeeuklLVq0SBaLRaWlpZ3O9ebxbWlpUWRkpJLv+aPMod77tt7R3qqav/5Bzc3NioiI8Nq66Ijs7htkt++R3b5HdnsX2Y3eIrv7Btnte2S375Hd3uWP7Hbndo53c1v6b3ZvDI7s9vsZ4+3t7aqpqVFmZqZ7zGQyKTMzU1VVVZ2+pqqqymO+JGVlZXU535t6U6/0zQ/BlVdeqbi4uO/9Jsuf/HlsL4XFYlFMTIymTJmid9991291NDc3S/rml3JXAukYd6deKTA+vw6HQ+Xl5bLb7UpPT+90TiAd2+7UK/n/2D7yyCOaPn16h+PWmUA6vvAvsjuw/FB/Nsnu3iG7fYfsRjAjuwPLD/Vnk+zuHbLbd8ju72dqc8nc6t2Hqc3v51h7TT9/F3D69Gk5HA5FRUV5jEdFRenw4cOdvqaxsbHT+X1xfave1JuYmKi1a9cqKSlJzc3NeuGFF5SRkaFDhw5p5MiRPq+5J7o6ti0tLfr666/Vv39/P1XWuZiYGJWVlSklJUVtbW1avXq1Jk2apL1792r8+PF9WovT6dScOXN0880364Ybbuhynj8/v9/W3Xr9/fk9cOCA0tPT1draqkGDBmnTpk267rrrOp0bCMe2J/X6+9iWl5ertrZW+/fv79Z8XxxfU7tLZi/+4ZLrXPAEdCAju8nuS0F29x7Z7Rtkd8+Q3T9MZDfZfSnI7t4ju32D7Ia3+L0xbgTp6eke31xlZGTo2muv1cqVK/X000/7sbIfvsTERCUmJrq3MzIydPToUb344otav359n9byyCOP6ODBg9qzZ0+fvm9vdbdef39+ExMTVVdXp+bmZr3++uvKy8vTrl27ugw9f+tJvf48tsePH9fs2bO1fft2v914BAhk/v7dF8zI7t4ju32D7AaCg79/9wUzsrv3yG7fILvhLX5vjA8bNkxms1lNTU0e401NTYqOju70NdHR0T2a7029qfe7LrvsMt144436+OOPfVHiJenq2EZERATct9ZdSU1N7fOQLCgo0JYtW7R79+7v/cbRn5/fC3pS73f19ec3NDRUo0ePliQlJydr//79Wrp0qVauXNlhbiAc257U+119eWxramp08uRJjzM8HA6Hdu/erWXLlqmtrU1ms9njNYFwfBEYyO7AQnb3DtntO2S3b5DduBRkd2Ahu3uH7PYdsts3yO7A5/drjIeGhio5OVk2m8095nQ6ZbPZurw+UHp6usd8Sdq+fftFryfkLb2p97scDocOHDigmJgYX5XZa/48tt5SV1fXZ8fW5XKpoKBAmzZt0s6dO5WQkPC9r/HnMe5Nvd/l78+v0+lUW1tbp88F4uf3YvV+V18e21tvvVUHDhxQXV2d+5GSkqL77rtPdXV1HcJZCszjC/8guwNLMPxskt1dI7v7HtmNYER2B5Zg+Nkku7tGdvc9shu95fczxiXJarUqLy9PKSkpSk1NVWlpqex2u/Lz8yVJubm5io2NVUlJiSRp9uzZmjhxohYvXqzp06ervLxc1dXVWrVqVUDW+9RTT+mmm27S6NGjdebMGT3//PP65JNP9Ktf/crntZ49e9bjW7Bjx46prq5OQ4YM0ahRo1RYWKiGhga9+uqrkqTf/OY3WrZsmebNm6cHH3xQO3fu1F//+ldt3brV57X2pt7S0lIlJCTo+uuvV2trq1avXq2dO3fqnXfe6ZN6H3nkEW3YsEF///vfdfnll7uv+RQZGen+pj+QPr+9qdefn9/CwkJNmzZNo0aN0pdffqkNGzaosrJS27Zt67RWf/9u6Gm9/jy2l19+eYdr3A0cOFBDhw51jwfa8UVgIbt9h+z2LbLbt8hu3yG7canIbt8hu32L7PYtstt3yO7AFxCN8ZycHJ06dUpFRUVqbGyUxWJRRUWF+2Lz9fX1Mpn+d3J7RkaGNmzYoCeeeEILFizQmDFjtHnz5oveyMCf9X7xxReaNWuWGhsbdcUVVyg5OVnvvfden1yrqbq6WpMnT3ZvW61WSVJeXp7WrVunEydOqL6+3v18QkKCtm7dqscee0xLly7VyJEjtXr1amVlZfm81t7U297errlz56qhoUEDBgxQUlKSduzY4bGGL61YsUKSNGnSJI/xl19+WQ888ICkwPr89qZef35+T548qdzcXJ04cUKRkZFKSkrStm3bNGXKlE5r9ffvhp7W689j2x2BdnwRWMhu3yG7fYvs9i2y278C7fgisJDdvkN2+xbZ7Vtkt38F2vE1mhCXy4u3FAcAoBtaWloUGRmpCdmL1O8y792E5Py5Vu3f/ISam5sVERHhtXUBADA6shsAgB8OX+W2FFzZ7fdrjAMA4C8rVqxQUlKSIiIiFBERofT0dL399tsXfc1rr72ma665RuHh4Ro7dqzeeuutPqoWAABI0u7du3X77bdrxIgRCgkJ0ebNmy86v7KyUiEhIR0eFy5vcMHy5csVHx+v8PBwpaWlad++fT7cCwAA4G80xgEAhjVy5Eg9++yzqqmpUXV1tW655RbdcccdOnToUKfz33vvPd17772aOXOm3n//fWVnZys7O1sHDx7s48oBADAuu92ucePGafny5T163ZEjR3TixAn3Y/jw4e7nNm7cKKvVquLiYtXW1mrcuHHKysrSyZMnvV0+AAAIEDTGAQCGdfvtt+tnP/uZxowZox/96Ef64x//qEGDBumf//xnp/OXLl2qqVOn6ve//72uvfZaPf300xo/fryWLVvWx5UDAGBc06ZN06JFi/SLX/yiR68bPny4oqOj3Y9vX9N1yZIlmjVrlvLz83XdddeprKxMAwYM0Nq1a71dPgAACBA0xgEAkORwOFReXi673a709PRO51RVVSkzM9NjLCsrS1VVVX1RIgAAuAQWi0UxMTGaMmWK3n33Xfd4e3u7ampqPDLeZDIpMzOTjAcAIIj183cBAAB4W0tLi8d2WFiYwsLCOp174MABpaenq7W1VYMGDdKmTZu6vEN5Y2OjoqKiPMaioqI6XKMUAAD0TE+yu6diYmJUVlamlJQUtbW1afXq1Zo0aZL27t2r8ePH6/Tp03I4HJ1m/OHDh71SAwAACDw0xgEAftOvzal+Tqf3Fjz3zVpxcXEew8XFxVq4cGGnL0lMTFRdXZ2am5v1+uuvKy8vT7t27eqyOQ4AgJEFQnb3VGJiohITE93bGRkZOnr0qF588UWtX7/eK+8BAEAg8npuS+7sDgY0xgEAQef48eOKiIhwb1/sjLPQ0FCNHj1akpScnKz9+/dr6dKlWrlyZYe50dHRampq8hhrampSdHS0lyoHAMCYepLd3pCamqo9e/ZIkoYNGyaz2UzGAwBgMFxjHAAQdCIiIjwePfnHtdPpVFtbW6fPpaeny2azeYxt3769y2uSAwCA7rmU7O6Nuro6xcTESPrmS/Lk5GSPjHc6nbLZbGQ8AABBjDPGAQCGVVhYqGnTpmnUqFH68ssvtWHDBlVWVmrbtm2SpNzcXMXGxqqkpESSNHv2bE2cOFGLFy/W9OnTVV5erurqaq1atcqfuwEAgKGcPXtWH3/8sXv72LFjqqur05AhQzRq1CgVFhaqoaFBr776qiSptLRUCQkJuv7669Xa2qrVq1dr586deuedd9xrWK1W5eXlKSUlRampqSotLZXdbld+fn6f7x8AAOgbNMYBAIZ18uRJ5ebm6sSJE4qMjFRSUpK2bdumKVOmSJLq6+tlMv3vj6syMjK0YcMGPfHEE1qwYIHGjBmjzZs364YbbvDXLgAAYDjV1dWaPHmye9tqtUqS8vLytG7dOp04cUL19fXu59vb2zV37lw1NDRowIABSkpK0o4dOzzWyMnJ0alTp1RUVKTGxkZZLBZVVFR0uCEnAAAIHiEul8vl7yIAAMbS0tKiyMhIpU97Sv0uC/fauufPtarq7SI1Nzd7XKcUAABcGrIbAIAfDl/lthRc2c01xgEAAAAAAAAAhkJjHAAAAAAAAABgKDTGAQAAAAAAAAA+s3z5csXHxys8PFxpaWnat29fl3PfeOMNpaSkaPDgwRo4cKAsFovWr1/vfv7cuXN6/PHHNXbsWA0cOFAjRoxQbm6uPvvssx7VRGMcAAAAAAAAAOATGzdulNVqVXFxsWprazVu3DhlZWXp5MmTnc4fMmSI/vCHP6iqqkoffPCB8vPzlZ+fr23btkmSvvrqK9XW1urJJ59UbW2t3njjDR05ckQ///nPe1RXv0veMwAAAAAAAAAAOrFkyRLNmjVL+fn5kqSysjJt3bpVa9eu1fz58zvMnzRpksf27Nmz9corr2jPnj3KyspSZGSktm/f7jFn2bJlSk1NVX19vUaNGtWtumiMAwD8xtTulMnp9N565723FgAA6IjsBgAAktTS0uKxHRYWprCwsA7z2tvbVVNTo8LCQveYyWRSZmamqqqqvvd9XC6Xdu7cqSNHjui5557rcl5zc7NCQkI0ePDgbu8DjXEAAAAAAAAACDLmNqfMDu9+Ce3675facXFxHuPFxcVauHBhh/mnT5+Ww+FQVFSUx3hUVJQOHz7c5fs0NzcrNjZWbW1tMpvNeumllzRlypRO57a2turxxx/Xvffeq4iIiG7vC41xAAAAAAAAAEC3HT9+3KMJ3dnZ4pfi8ssvV11dnc6ePSubzSar1aqrrrqqw2VWzp07p3vuuUcul0srVqzo0XvQGAcAAAAAAAAAdFtERES3zs4eNmyYzGazmpqaPMabmpoUHR3d5etMJpNGjx4tSbJYLPrXv/6lkpISj8b4hab4J598op07d/bobHFJMvVoNgAAAAAAAAAA3RAaGqrk5GTZbDb3mNPplM1mU3p6erfXcTqdamtrc29faIp/9NFH2rFjh4YOHdrj2jhjHAAAAAAAAADgE1arVXl5eUpJSVFqaqpKS0tlt9uVn58vScrNzVVsbKxKSkokSSUlJUpJSdHVV1+ttrY2vfXWW1q/fr37Uinnzp3TL3/5S9XW1mrLli1yOBxqbGyUJA0ZMkShoaHdqovGOAAAAAAAAADAJ3JycnTq1CkVFRWpsbFRFotFFRUV7hty1tfXy2T634VN7Ha7Hn74YX366afq37+/rrnmGv3lL39RTk6OJKmhoUFvvvmmpG8us/Jt//jHPzpch7wrNMYBAAAAAAAAAD5TUFCggoKCTp+rrKz02F60aJEWLVrU5Vrx8fFyuVyXXBPXGAcAAAAAAAAAGAqNcQAAAAAAAACAodAYBwAAAAAAAAAYCtcYBwD4jbnNKbPD6bX1XOe9txYAAOiI7AYAAMGCM8YBAAAAAAAAAIZCYxwAAAAAAAAAYChcSgUAAAAAAAAAgoy51SFzP4dX13Sd9+56/sQZ4wAAAAAAAAAAQ6ExDgAAAAAAAAAwFBrjAAAAAAAAAABDoTEOAAAAAAAAADAUGuMAAAAAAAAAAEOhMQ4AAAAAAAAAMBQa4wAAAAAAAAAAQ6ExDgAAAAAAAAAwlH7+LgAAYFzm1vMy9zvvtfVc5723FgAA6IjsBgAAwYIzxgEAAAAAAAAAhkJjHAAAAAAAAABgKDTGAQAAAAAAAACGwjXGAQAAAAAAACDImFrPy2T27v08TI7guT8IZ4wDAAAAAAAAAAyFxjgAAAAAAAAAwFBojAMAAAAAAAAADIXGOAAAAAAAAADAUGiMAwAAAAAAAAAMhcY4AAAAAAAAAMBQ+vm7AACAcYW0ORRy/rz31nM4vLYWAADoiOwGAADBgjPGAQAAAAAAAACGQmMcAAAAAAAAAGAoNMYBAAAAAAAAAIZCYxwAAAAAAAAAYCjcfBMAAAAAAAAAgoyp9ZxMZu+eF21ynPPqev7EGeMAAAAAAAAAAEOhMQ4AMLTdu3fr9ttv14gRIxQSEqLNmzdfdH5lZaVCQkI6PBobG/umYAAAoOXLlys+Pl7h4eFKS0vTvn37upw7adKkTrN7+vTp7jkPPPBAh+enTp3aF7sCAAD8hEupAAAMzW63a9y4cXrwwQd15513dvt1R44cUUREhHt7+PDhvigPAAB8x8aNG2W1WlVWVqa0tDSVlpYqKytLR44c6TSP33jjDbW3t7u3P//8c40bN0533323x7ypU6fq5Zdfdm+HhYX5bicAAIDf0RgHABjatGnTNG3atB6/bvjw4Ro8eLD3CwIAABe1ZMkSzZo1S/n5+ZKksrIybd26VWvXrtX8+fM7zB8yZIjHdnl5uQYMGNChMR4WFqbo6GjfFQ4AAAIKl1IBAKAXLBaLYmJiNGXKFL377rv+LgcAAENob29XTU2NMjMz3WMmk0mZmZmqqqrq1hpr1qzRjBkzNHDgQI/xyspKDR8+XImJiXrooYf0+eefe7V2AAAQWDhjHAAQdFpaWjy2w8LCvPbn0DExMSorK1NKSora2tq0evVqTZo0SXv37tX48eO98h4AABhNd7P79OnTcjgcioqK8hiPiorS4cOHv/d99u3bp4MHD2rNmjUe41OnTtWdd96phIQEHT16VAsWLNC0adNUVVUls9nciz0CAACBjsY4AMBvTK3tMplDvLee45vrh8bFxXmMFxcXa+HChV55j8TERCUmJrq3MzIydPToUb344otav369V94DAIBA9UPM7m9bs2aNxo4dq9TUVI/xGTNmuP9/7NixSkpK0tVXX63KykrdeuutXq8DAAD4H5dSAQAEnePHj6u5udn9KCws9On7paam6uOPP/bpewAAEMy6m93Dhg2T2WxWU1OTx3hTU9P3Xh/cbrervLxcM2fO/N56rrrqKg0bNox8BwDAS5YvX674+HiFh4crLS1N+/bt63LuoUOHdNdddyk+Pl4hISEqLS3tdF5DQ4Puv/9+DR06VP3799fYsWNVXV3d7ZpojAMAgk5ERITHw1uXUelKXV2dYmJifPoeAAAEs+5md2hoqJKTk2Wz2dxjTqdTNptN6enpF32P1157TW1tbbr//vu/t55PP/1Un3/+OfkOAIAXbNy4UVarVcXFxaqtrdW4ceOUlZWlkydPdjr/q6++0lVXXaVnn322yy++v/jiC91888267LLL9Pbbb+vDDz/U4sWLdcUVV3S7Li6lAgAwtLNnz3qcDXbs2DHV1dVpyJAhGjVqlAoLC9XQ0KBXX31VklRaWqqEhARdf/31am1t1erVq7Vz50698847/toFAAAMxWq1Ki8vTykpKUpNTVVpaansdrvy8/MlSbm5uYqNjVVJSYnH69asWaPs7GwNHTrUY/zs2bP6v//7P911112Kjo7W0aNHNW/ePI0ePVpZWVl9tl8AAASrJUuWaNasWe6sLisr09atW7V27VrNnz+/w/wJEyZowoQJktTp85L03HPPKS4uTi+//LJ7LCEhoUd10RgHABhadXW1Jk+e7N62Wq2SpLy8PK1bt04nTpxQfX29+/n29nbNnTtXDQ0NGjBggJKSkrRjxw6PNQAAgO/k5OTo1KlTKioqUmNjoywWiyoqKtw35Kyvr5fJ5PnH0UeOHNGePXs6/SLbbDbrgw8+0CuvvKIzZ85oxIgR+ulPf6qnn37a5391BgBAsGtvb1dNTY3HZdJMJpMyMzNVVVXV63XffPNNZWVl6e6779auXbsUGxurhx9+WLNmzer2GjTGAQCGNmnSJLlcri6fX7duncf2vHnzNG/ePB9XBQAALqagoEAFBQWdPldZWdlhLDExscu879+/v7Zt2+bN8gAACHotLS0e22FhYZ1+oXz69Gk5HA73F9gXREVF6fDhw71+///85z9asWKFrFarFixYoP379+u3v/2tQkNDlZeX1601aIwDAAAAAAAAQJAJ+bpNIV6+w2SIs02SFBcX5zFeXFyshQsXevfNLsLpdColJUXPPPOMJOnGG2/UwYMHVVZWRmMcAAAAAAAAAOB9x48fV0REhHu7q8uPDRs2TGazWU1NTR7jTU1NXd5YsztiYmJ03XXXeYxde+21+tvf/tbtNbz8nQEAAAAAAAAAIJhFRER4PLpqjIeGhio5OVk2m8095nQ6ZbPZlJ6e3uv3v/nmm3XkyBGPsX//+9+68soru70GZ4wDAAAAAAAAAHzCarUqLy9PKSkpSk1NVWlpqex2u/Lz8yVJubm5io2NVUlJiaRvbtj54Ycfuv+/oaFBdXV1GjRokEaPHi1Jeuyxx5SRkaFnnnlG99xzj/bt26dVq1Zp1apV3a6LxjgAAAAAAAAAwCdycnJ06tQpFRUVqbGxURaLRRUVFe4bctbX18tk+t+FTT777DPdeOON7u0XXnhBL7zwgiZOnOi+yfaECRO0adMmFRYW6qmnnlJCQoJKS0t13333dbsuGuMAAP9pa/PuRb3+exMQAADgI2Q3AADohYKCAhUUFHT63IVm9wXx8fFyuVzfu+Ztt92m2267rdc1cY1xAAAAAAAAAICh0BgHAAAAAAAAABgKjXEAAAAAAAAAgKHQGAcAAAAAAAAAGAqNcQAAAAAAAACAodAYBwAAAAAAAAAYCo1xAAAAAAAAAICh9PN3AQAAAAAAAAAAL/u6TTK5vLums9276/kRZ4wDAAAAAAAAAAyFxjgAAAAAAAAAwFC4lAoAwH9a2737FW0Q/UkXAAABiewGAABBgjPGAQAAAAAAAACGQmMcAAAAAAAAAGAoNMYBAAAAAAAAAIZCYxwAAAAAAAAAYCg0xgEAAAAAAAAAhkJjHAAAAAAAAABgKDTGAQAAAAAAAACGQmMcAAAAAAAAAGAo/fxdAAAAAAAAAADAu1xffy1XiMO7a7ravbqeP3HGOAAAAAAAAADAUGiMAwAAAAAAAAAMhUupAAD8xtt/1hVMf9IFAEAgIrsBAECw4IxxAAAAAAAAAICh0BgHAAAAAAAAABgKjXEAAAAAAAAAgKHQGAcAAAAAAAAAGAqNcQAAAAAAAACAodAYBwAAAAAAAAAYCo1xAAAAAAAAAICh0BgHAAAAAAAAABgKjXEAAAAAAAAAgKH083cBAAAAAAAAAADvctq/ljPkvHfXdJ3z6nr+RGMcAOA3zq/b5Axxem+9IApoAAACEdkNAACCBZdSAQAAAAAAAAAYCo1xAAAAAAAAAICh0BgHAAAAAAAAABgKjXEAAAAAAAAAgKHQGAcAAAAAAAAAGAqNcQAAAAAAAACAodAYBwAY3vLlyxUfH6/w8HClpaVp3759F53/2muv6ZprrlF4eLjGjh2rt956q48qBQAAkvez2+VyqaioSDExMerfv78yMzP10Ucf+XIXAAAwlEDMbhrjAABD27hxo6xWq4qLi1VbW6tx48YpKytLJ0+e7HT+e++9p3vvvVczZ87U+++/r+zsbGVnZ+vgwYN9XDkAAMbki+z+05/+pD//+c8qKyvT3r17NXDgQGVlZam1tbWvdgsAgKAVqNkd4nK5XJe8dwAA9EBLS4siIyM1ud8v1S/kMq+te951Tv84/7qam5sVERHRrdekpaVpwoQJWrZsmSTJ6XQqLi5Ojz76qObPn99hfk5Ojux2u7Zs2eIeu+mmm2SxWFRWVuadHQEAIMAEc3a7XC6NGDFCc+fO1e9+9ztJUnNzs6KiorRu3TrNmDHDC3sKAEDf8VVuS8GV3ZwxDgAwrPb2dtXU1CgzM9M9ZjKZlJmZqaqqqk5fU1VV5TFfkrKysrqcDwAAvMcX2X3s2DE1NjZ6zImMjFRaWhr5DgDAJQrk7O7Xkx0BAMCbzuuc5MW/Wzqvc5K++Xb828LCwhQWFtZh/unTp+VwOBQVFeUxHhUVpcOHD3f6Ho2NjZ3Ob2xsvJTSAQD4QQjG7L7wX/IdABBsvJ3b7jUVHNlNYxwA0OdCQ0MVHR2t/9f4d6+vPWjQIMXFxXmMFRcXa+HChV5/LwAAjILsBgDgh8OXuS0FT3bTGAcA9Lnw8HAdO3ZM7e3tXl/b5XIpJCTEY6yzb60ladiwYTKbzWpqavIYb2pqUnR0dKeviY6O7tF8AACCQTBn94X/NjU1KSYmxmOOxWLp0b4AABAIfJnbUvBkN41xAIBfhIeHKzw83K81hIaGKjk5WTabTdnZ2ZK+uQmIzWZTQUFBp69JT0+XzWbTnDlz3GPbt29Xenp6H1QMAID/BGt2JyQkKDo6Wjabzf2P6ZaWFu3du1cPPfSQL3cHAACfCYTclgI7u2mMAwAMzWq1Ki8vTykpKUpNTVVpaansdrvy8/MlSbm5uYqNjVVJSYkkafbs2Zo4caIWL16s6dOnq7y8XNXV1Vq1apU/dwMAAMPwdnaHhIRozpw5WrRokcaMGaOEhAQ9+eSTGjFihPsf8AAAoPcCNbtpjAMADC0nJ0enTp1SUVGRGhsbZbFYVFFR4b6JR319vUwmk3t+RkaGNmzYoCeeeEILFizQmDFjtHnzZt1www3+2gUAAAzFF9k9b9482e12/frXv9aZM2f04x//WBUVFQFxph0AAD90gZrdIS6Xy8v3JgUAAAAAAAAAIHCZvn8KAAAAAAAAAADBg8Y4AAAAAAAAAMBQaIwDAAAAAAAAAAyFxjgAAAAAAAAAwFBojAMAAAAAAAAADIXGOAAAAAAAAADAUGiMAwAAAAAAAAAMhcY4AAAAAAAAAMBQaIwDAAAAAAAAAAyFxjgAAAAAAAAAwFBojAMAAAAAAAAADIXGOAAAAAAAAADAUP4/HDnsBasCz7YAAAAASUVORK5CYII=)\n",
        "\n",
        "At the end :\n",
        "![2_fin.png](data:image/png;base64,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)"
      ],
      "metadata": {
        "id": "sE2mcyYaEBaz"
      }
    },
    {
      "cell_type": "markdown",
      "source": [
        "### **Re=10**\n",
        "\n"
      ],
      "metadata": {
        "id": "8gQ878YBeNgv"
      }
    },
    {
      "cell_type": "markdown",
      "source": [
        "### **Re=100**\n",
        "\n"
      ],
      "metadata": {
        "id": "CZsscdx0eRvl"
      }
    },
    {
      "cell_type": "markdown",
      "source": [
        "### **Re=1000**\n"
      ],
      "metadata": {
        "id": "chZ9AHoIeXGq"
      }
    },
    {
      "cell_type": "markdown",
      "source": [
        "# **2. Drag and lift coefficients**"
      ],
      "metadata": {
        "id": "Q1PgT4iTeaTN"
      }
    },
    {
      "cell_type": "markdown",
      "source": [
        "For different Re"
      ],
      "metadata": {
        "id": "t9kOJCcGhyC8"
      }
    },
    {
      "cell_type": "markdown",
      "source": [
        "# **3. Mesh resolution**"
      ],
      "metadata": {
        "id": "A_rLkNljiHAR"
      }
    },
    {
      "cell_type": "markdown",
      "source": [
        "Re=100 under the different mesh resolutions h=1/8, 1/16, 1/32"
      ],
      "metadata": {
        "id": "wzq_3cp2iLN9"
      }
    },
    {
      "cell_type": "markdown",
      "source": [
        "# **h=1/32**"
      ],
      "metadata": {
        "id": "fUeTkaX1jX_1"
      }
    }
  ]
}